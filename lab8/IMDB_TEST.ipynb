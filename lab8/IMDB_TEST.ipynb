{
 "cells": [
  {
   "cell_type": "code",
   "execution_count": 20,
   "metadata": {},
   "outputs": [],
   "source": [
    "# ------------------------------------------------------------------------\n",
    "# Initial Import.\n",
    "# We are going to use keras to build NN models.\n",
    "# ------------------------------------------------------------------------\n",
    "from __future__ import print_function\n",
    "import numpy as np\n",
    "np.random.seed(1337)  # for reproducibility\n",
    "\n",
    "from keras.preprocessing import sequence\n",
    "from keras.models import Model\n",
    "from keras.layers import Dense, Activation, Embedding, Flatten, Input, Dropout, Conv1D, GlobalMaxPooling1D, recurrent\n",
    "from keras.datasets import imdb"
   ]
  },
  {
   "cell_type": "code",
   "execution_count": 2,
   "metadata": {},
   "outputs": [
    {
     "name": "stdout",
     "output_type": "stream",
     "text": [
      "Loading data...\n",
      "Downloading data from https://s3.amazonaws.com/text-datasets/imdb.npz\n"
     ]
    },
    {
     "name": "stderr",
     "output_type": "stream",
     "text": [
      "/usr/local/lib/python3.5/dist-packages/keras/datasets/imdb.py:44: UserWarning: The `nb_words` argument in `load_data` has been renamed `num_words`.\n",
      "  warnings.warn('The `nb_words` argument in `load_data` '\n"
     ]
    },
    {
     "name": "stdout",
     "output_type": "stream",
     "text": [
      "17465344/17464789 [==============================] - 5s 0us/step\n",
      "25000 train sequences\n",
      "25000 test sequences\n"
     ]
    }
   ],
   "source": [
    "# ------------------------------------------------------------------------\n",
    "# Data pre-processing.\n",
    "# Including load data.\n",
    "# ------------------------------------------------------------------------\n",
    "max_features = 20000\n",
    "maxlen = 80  # cut texts after this number of words (among top max_features most common words)\n",
    "batch_size = 32\n",
    "\n",
    "print('Loading data...')\n",
    "(X_train, y_train), (X_test, y_test) = imdb.load_data(nb_words=max_features)\n",
    "print(len(X_train), 'train sequences')\n",
    "print(len(X_test), 'test sequences')"
   ]
  },
  {
   "cell_type": "code",
   "execution_count": 3,
   "metadata": {},
   "outputs": [
    {
     "name": "stdout",
     "output_type": "stream",
     "text": [
      "Pad sequences (samples x time)\n",
      "X_train shape: (25000, 80)\n",
      "X_test shape: (25000, 80)\n"
     ]
    }
   ],
   "source": [
    "print('Pad sequences (samples x time)')\n",
    "X_train = sequence.pad_sequences(X_train, maxlen=maxlen) # sequences: cut words, just keep 80 of them.\n",
    "X_test = sequence.pad_sequences(X_test, maxlen=maxlen)\n",
    "print('X_train shape:', X_train.shape)\n",
    "print('X_test shape:', X_test.shape)"
   ]
  },
  {
   "cell_type": "code",
   "execution_count": 4,
   "metadata": {},
   "outputs": [
    {
     "name": "stdout",
     "output_type": "stream",
     "text": [
      "Build model...\n"
     ]
    },
    {
     "name": "stderr",
     "output_type": "stream",
     "text": [
      "/usr/local/lib/python3.5/dist-packages/ipykernel_launcher.py:6: UserWarning: The `dropout` argument is no longer support in `Embedding`. You can apply a `keras.layers.SpatialDropout1D` layer right after the `Embedding` layer to get the same behavior.\n",
      "  \n",
      "/usr/local/lib/python3.5/dist-packages/ipykernel_launcher.py:13: UserWarning: Update your `Model` call to the Keras 2 API: `Model(outputs=Tensor(\"ac..., inputs=Tensor(\"in...)`\n",
      "  del sys.path[0]\n"
     ]
    }
   ],
   "source": [
    "print('Build model...')\n",
    "\n",
    "\n",
    "inputs = Input(shape=(maxlen,))\n",
    "x = inputs\n",
    "x = Embedding(max_features, 128, dropout=0.2)(x)\n",
    "x = Dense(64, activation = 'relu')(x)\n",
    "x = Flatten()(x)\n",
    "x = Dense(1)(x)\n",
    "predictions = Activation(\"sigmoid\")(x)\n",
    "\n",
    "\n",
    "model = Model(input=inputs, output=predictions)\n",
    "model.compile(loss='binary_crossentropy',\n",
    "              optimizer='adam',\n",
    "              metrics=['accuracy'])"
   ]
  },
  {
   "cell_type": "code",
   "execution_count": 5,
   "metadata": {},
   "outputs": [
    {
     "name": "stdout",
     "output_type": "stream",
     "text": [
      "_________________________________________________________________\n",
      "Layer (type)                 Output Shape              Param #   \n",
      "=================================================================\n",
      "input_1 (InputLayer)         (None, 80)                0         \n",
      "_________________________________________________________________\n",
      "embedding_1 (Embedding)      (None, 80, 128)           2560000   \n",
      "_________________________________________________________________\n",
      "dense_1 (Dense)              (None, 80, 64)            8256      \n",
      "_________________________________________________________________\n",
      "flatten_1 (Flatten)          (None, 5120)              0         \n",
      "_________________________________________________________________\n",
      "dense_2 (Dense)              (None, 1)                 5121      \n",
      "_________________________________________________________________\n",
      "activation_1 (Activation)    (None, 1)                 0         \n",
      "=================================================================\n",
      "Total params: 2,573,377\n",
      "Trainable params: 2,573,377\n",
      "Non-trainable params: 0\n",
      "_________________________________________________________________\n"
     ]
    }
   ],
   "source": [
    "model.summary()"
   ]
  },
  {
   "cell_type": "code",
   "execution_count": 6,
   "metadata": {},
   "outputs": [
    {
     "name": "stdout",
     "output_type": "stream",
     "text": [
      "Train...\n"
     ]
    },
    {
     "name": "stderr",
     "output_type": "stream",
     "text": [
      "/usr/local/lib/python3.5/dist-packages/ipykernel_launcher.py:3: UserWarning: The `nb_epoch` argument in `fit` has been renamed `epochs`.\n",
      "  This is separate from the ipykernel package so we can avoid doing imports until\n"
     ]
    },
    {
     "name": "stdout",
     "output_type": "stream",
     "text": [
      "Train on 25000 samples, validate on 25000 samples\n",
      "Epoch 1/15\n",
      "25000/25000 [==============================] - 89s 4ms/step - loss: 0.4444 - acc: 0.7802 - val_loss: 0.3800 - val_acc: 0.8279\n",
      "Epoch 2/15\n",
      "25000/25000 [==============================] - 127s 5ms/step - loss: 0.2133 - acc: 0.9160 - val_loss: 0.3854 - val_acc: 0.8327\n",
      "Epoch 3/15\n",
      "25000/25000 [==============================] - 96s 4ms/step - loss: 0.0708 - acc: 0.9788 - val_loss: 0.5202 - val_acc: 0.8198\n",
      "Epoch 4/15\n",
      "25000/25000 [==============================] - 88s 4ms/step - loss: 0.0116 - acc: 0.9989 - val_loss: 0.6398 - val_acc: 0.8213\n",
      "Epoch 5/15\n",
      "25000/25000 [==============================] - 92s 4ms/step - loss: 0.0021 - acc: 1.0000 - val_loss: 0.7047 - val_acc: 0.8231\n",
      "Epoch 6/15\n",
      "25000/25000 [==============================] - 79s 3ms/step - loss: 7.6289e-04 - acc: 1.0000 - val_loss: 0.7590 - val_acc: 0.8232\n",
      "Epoch 7/15\n",
      "25000/25000 [==============================] - 80s 3ms/step - loss: 4.0275e-04 - acc: 1.0000 - val_loss: 0.8059 - val_acc: 0.8230\n",
      "Epoch 8/15\n",
      "25000/25000 [==============================] - 84s 3ms/step - loss: 2.3273e-04 - acc: 1.0000 - val_loss: 0.8508 - val_acc: 0.8228\n",
      "Epoch 9/15\n",
      "25000/25000 [==============================] - 98s 4ms/step - loss: 1.3847e-04 - acc: 1.0000 - val_loss: 0.8920 - val_acc: 0.8231\n",
      "Epoch 10/15\n",
      "25000/25000 [==============================] - 110s 4ms/step - loss: 8.4320e-05 - acc: 1.0000 - val_loss: 0.9309 - val_acc: 0.8232\n",
      "Epoch 11/15\n",
      "25000/25000 [==============================] - 97s 4ms/step - loss: 5.2223e-05 - acc: 1.0000 - val_loss: 0.9693 - val_acc: 0.8224\n",
      "Epoch 12/15\n",
      "25000/25000 [==============================] - 89s 4ms/step - loss: 3.2555e-05 - acc: 1.0000 - val_loss: 1.0055 - val_acc: 0.8222\n",
      "Epoch 13/15\n",
      "25000/25000 [==============================] - 89s 4ms/step - loss: 2.0512e-05 - acc: 1.0000 - val_loss: 1.0415 - val_acc: 0.8224\n",
      "Epoch 14/15\n",
      "25000/25000 [==============================] - 88s 4ms/step - loss: 1.2966e-05 - acc: 1.0000 - val_loss: 1.0762 - val_acc: 0.8219\n",
      "Epoch 15/15\n",
      "25000/25000 [==============================] - 88s 4ms/step - loss: 8.2361e-06 - acc: 1.0000 - val_loss: 1.1105 - val_acc: 0.8208\n",
      "25000/25000 [==============================] - 6s 247us/step\n",
      "Test score: 1.1105385148486495\n",
      "Test accuracy: 0.82084\n"
     ]
    }
   ],
   "source": [
    "print('Train...')\n",
    "model.fit(X_train, y_train, batch_size=batch_size, nb_epoch=15,\n",
    "          validation_data=(X_test, y_test))\n",
    "score, acc = model.evaluate(X_test, y_test,\n",
    "                            batch_size=batch_size)\n",
    "print('Test score:', score)\n",
    "print('Test accuracy:', acc)"
   ]
  },
  {
   "cell_type": "code",
   "execution_count": 9,
   "metadata": {},
   "outputs": [
    {
     "name": "stdout",
     "output_type": "stream",
     "text": [
      "Build model2...\n"
     ]
    },
    {
     "name": "stderr",
     "output_type": "stream",
     "text": [
      "/usr/local/lib/python3.5/dist-packages/ipykernel_launcher.py:6: UserWarning: The `dropout` argument is no longer support in `Embedding`. You can apply a `keras.layers.SpatialDropout1D` layer right after the `Embedding` layer to get the same behavior.\n",
      "  \n",
      "/usr/local/lib/python3.5/dist-packages/ipykernel_launcher.py:14: UserWarning: Update your `Model` call to the Keras 2 API: `Model(outputs=Tensor(\"ac..., inputs=Tensor(\"in...)`\n",
      "  \n"
     ]
    }
   ],
   "source": [
    "print('Build model2...')\n",
    "\n",
    "\n",
    "inputs = Input(shape=(maxlen,))\n",
    "x = inputs\n",
    "x = Embedding(max_features, 128, dropout=0.2)(x)\n",
    "x = Dense(64, activation = 'relu')(x)\n",
    "x = Dropout(0.25)(x)\n",
    "x = Flatten()(x)\n",
    "x = Dense(1)(x)\n",
    "predictions = Activation(\"sigmoid\")(x)\n",
    "\n",
    "\n",
    "model2 = Model(input=inputs, output=predictions)\n",
    "model2.compile(loss='binary_crossentropy',\n",
    "              optimizer='adam',\n",
    "              metrics=['accuracy'])"
   ]
  },
  {
   "cell_type": "code",
   "execution_count": 10,
   "metadata": {},
   "outputs": [
    {
     "name": "stdout",
     "output_type": "stream",
     "text": [
      "_________________________________________________________________\n",
      "Layer (type)                 Output Shape              Param #   \n",
      "=================================================================\n",
      "input_3 (InputLayer)         (None, 80)                0         \n",
      "_________________________________________________________________\n",
      "embedding_3 (Embedding)      (None, 80, 128)           2560000   \n",
      "_________________________________________________________________\n",
      "dense_4 (Dense)              (None, 80, 64)            8256      \n",
      "_________________________________________________________________\n",
      "dropout_1 (Dropout)          (None, 80, 64)            0         \n",
      "_________________________________________________________________\n",
      "flatten_2 (Flatten)          (None, 5120)              0         \n",
      "_________________________________________________________________\n",
      "dense_5 (Dense)              (None, 1)                 5121      \n",
      "_________________________________________________________________\n",
      "activation_2 (Activation)    (None, 1)                 0         \n",
      "=================================================================\n",
      "Total params: 2,573,377\n",
      "Trainable params: 2,573,377\n",
      "Non-trainable params: 0\n",
      "_________________________________________________________________\n"
     ]
    }
   ],
   "source": [
    "model2.summary()"
   ]
  },
  {
   "cell_type": "code",
   "execution_count": 13,
   "metadata": {},
   "outputs": [
    {
     "name": "stdout",
     "output_type": "stream",
     "text": [
      "Train...\n",
      "Train on 25000 samples, validate on 25000 samples\n",
      "Epoch 1/15\n"
     ]
    },
    {
     "name": "stderr",
     "output_type": "stream",
     "text": [
      "/usr/local/lib/python3.5/dist-packages/ipykernel_launcher.py:3: UserWarning: The `nb_epoch` argument in `fit` has been renamed `epochs`.\n",
      "  This is separate from the ipykernel package so we can avoid doing imports until\n"
     ]
    },
    {
     "name": "stdout",
     "output_type": "stream",
     "text": [
      "25000/25000 [==============================] - 101s 4ms/step - loss: 0.0022 - acc: 0.9994 - val_loss: 1.3576 - val_acc: 0.8054\n",
      "Epoch 2/15\n",
      "25000/25000 [==============================] - 97s 4ms/step - loss: 0.0017 - acc: 0.9994 - val_loss: 1.4033 - val_acc: 0.8062\n",
      "Epoch 3/15\n",
      "25000/25000 [==============================] - 100s 4ms/step - loss: 0.0020 - acc: 0.9994 - val_loss: 1.4310 - val_acc: 0.8036\n",
      "Epoch 4/15\n",
      "25000/25000 [==============================] - 98s 4ms/step - loss: 0.0017 - acc: 0.9996 - val_loss: 1.5245 - val_acc: 0.7989\n",
      "Epoch 5/15\n",
      "25000/25000 [==============================] - 98s 4ms/step - loss: 0.0031 - acc: 0.9989 - val_loss: 1.4998 - val_acc: 0.8034\n",
      "Epoch 6/15\n",
      "25000/25000 [==============================] - 100s 4ms/step - loss: 0.0020 - acc: 0.9992 - val_loss: 1.4890 - val_acc: 0.8048\n",
      "Epoch 7/15\n",
      "25000/25000 [==============================] - 98s 4ms/step - loss: 0.0013 - acc: 0.9995 - val_loss: 1.5036 - val_acc: 0.8016\n",
      "Epoch 8/15\n",
      "25000/25000 [==============================] - 101s 4ms/step - loss: 0.0019 - acc: 0.9994 - val_loss: 1.5503 - val_acc: 0.8013\n",
      "Epoch 9/15\n",
      "25000/25000 [==============================] - 99s 4ms/step - loss: 0.0019 - acc: 0.9993 - val_loss: 1.5964 - val_acc: 0.8016\n",
      "Epoch 10/15\n",
      "25000/25000 [==============================] - 100s 4ms/step - loss: 6.3714e-04 - acc: 0.9997 - val_loss: 1.5935 - val_acc: 0.8013\n",
      "Epoch 11/15\n",
      "25000/25000 [==============================] - 101s 4ms/step - loss: 0.0016 - acc: 0.9994 - val_loss: 1.6350 - val_acc: 0.8014\n",
      "Epoch 12/15\n",
      "25000/25000 [==============================] - 106s 4ms/step - loss: 3.1031e-04 - acc: 1.0000 - val_loss: 1.6599 - val_acc: 0.8008\n",
      "Epoch 13/15\n",
      "25000/25000 [==============================] - 104s 4ms/step - loss: 6.9285e-04 - acc: 0.9998 - val_loss: 1.6636 - val_acc: 0.8047\n",
      "Epoch 14/15\n",
      "25000/25000 [==============================] - 99s 4ms/step - loss: 8.4017e-04 - acc: 0.9997 - val_loss: 1.6941 - val_acc: 0.8022\n",
      "Epoch 15/15\n",
      "25000/25000 [==============================] - 100s 4ms/step - loss: 0.0011 - acc: 0.9995 - val_loss: 1.7578 - val_acc: 0.8016\n",
      "25000/25000 [==============================] - 8s 319us/step\n",
      "Test score: 1.757807836009562\n",
      "Test accuracy: 0.80164\n"
     ]
    }
   ],
   "source": [
    "print('Train...')\n",
    "model2.fit(X_train, y_train, batch_size=batch_size, nb_epoch=15,\n",
    "          validation_data=(X_test, y_test))\n",
    "score, acc = model2.evaluate(X_test, y_test,\n",
    "                            batch_size=batch_size)\n",
    "print('Test score:', score)\n",
    "print('Test accuracy:', acc)"
   ]
  },
  {
   "cell_type": "code",
   "execution_count": 17,
   "metadata": {},
   "outputs": [
    {
     "name": "stdout",
     "output_type": "stream",
     "text": [
      "Build model3...\n"
     ]
    },
    {
     "name": "stderr",
     "output_type": "stream",
     "text": [
      "/usr/local/lib/python3.5/dist-packages/ipykernel_launcher.py:6: UserWarning: The `dropout` argument is no longer support in `Embedding`. You can apply a `keras.layers.SpatialDropout1D` layer right after the `Embedding` layer to get the same behavior.\n",
      "  \n",
      "/usr/local/lib/python3.5/dist-packages/ipykernel_launcher.py:14: UserWarning: Update your `Model` call to the Keras 2 API: `Model(outputs=Tensor(\"ac..., inputs=Tensor(\"in...)`\n",
      "  \n"
     ]
    }
   ],
   "source": [
    "print('Build model3...')\n",
    "\n",
    "\n",
    "inputs = Input(shape=(maxlen,))\n",
    "x = inputs\n",
    "x = Embedding(max_features, 128, dropout=0.2)(x)\n",
    "x = Conv1D(filters = 32, kernel_size = 5,padding='Same', activation='relu')(x)\n",
    "x = GlobalMaxPooling1D()(x)\n",
    "#x = Flatten()(x)\n",
    "x = Dense(1)(x)\n",
    "predictions = Activation(\"sigmoid\")(x)\n",
    "\n",
    "\n",
    "model3 = Model(input=inputs, output=predictions)\n",
    "model3.compile(loss='binary_crossentropy',\n",
    "              optimizer='adam',\n",
    "              metrics=['accuracy'])"
   ]
  },
  {
   "cell_type": "code",
   "execution_count": 18,
   "metadata": {},
   "outputs": [
    {
     "name": "stdout",
     "output_type": "stream",
     "text": [
      "_________________________________________________________________\n",
      "Layer (type)                 Output Shape              Param #   \n",
      "=================================================================\n",
      "input_6 (InputLayer)         (None, 80)                0         \n",
      "_________________________________________________________________\n",
      "embedding_6 (Embedding)      (None, 80, 128)           2560000   \n",
      "_________________________________________________________________\n",
      "conv1d_3 (Conv1D)            (None, 80, 32)            20512     \n",
      "_________________________________________________________________\n",
      "global_max_pooling1d_2 (Glob (None, 32)                0         \n",
      "_________________________________________________________________\n",
      "dense_6 (Dense)              (None, 1)                 33        \n",
      "_________________________________________________________________\n",
      "activation_3 (Activation)    (None, 1)                 0         \n",
      "=================================================================\n",
      "Total params: 2,580,545\n",
      "Trainable params: 2,580,545\n",
      "Non-trainable params: 0\n",
      "_________________________________________________________________\n"
     ]
    }
   ],
   "source": [
    "model3.summary()"
   ]
  },
  {
   "cell_type": "code",
   "execution_count": 19,
   "metadata": {},
   "outputs": [
    {
     "name": "stdout",
     "output_type": "stream",
     "text": [
      "Train...\n"
     ]
    },
    {
     "name": "stderr",
     "output_type": "stream",
     "text": [
      "/usr/local/lib/python3.5/dist-packages/ipykernel_launcher.py:3: UserWarning: The `nb_epoch` argument in `fit` has been renamed `epochs`.\n",
      "  This is separate from the ipykernel package so we can avoid doing imports until\n"
     ]
    },
    {
     "name": "stdout",
     "output_type": "stream",
     "text": [
      "Train on 25000 samples, validate on 25000 samples\n",
      "Epoch 1/15\n",
      "25000/25000 [==============================] - 144s 6ms/step - loss: 0.4686 - acc: 0.7734 - val_loss: 0.3556 - val_acc: 0.8424\n",
      "Epoch 2/15\n",
      "25000/25000 [==============================] - 144s 6ms/step - loss: 0.2481 - acc: 0.9008 - val_loss: 0.3479 - val_acc: 0.8489\n",
      "Epoch 3/15\n",
      "25000/25000 [==============================] - 143s 6ms/step - loss: 0.1071 - acc: 0.9670 - val_loss: 0.3862 - val_acc: 0.8448\n",
      "Epoch 4/15\n",
      "25000/25000 [==============================] - 142s 6ms/step - loss: 0.0329 - acc: 0.9939 - val_loss: 0.4436 - val_acc: 0.8452\n",
      "Epoch 5/15\n",
      "25000/25000 [==============================] - 146s 6ms/step - loss: 0.0086 - acc: 0.9996 - val_loss: 0.4998 - val_acc: 0.8416\n",
      "Epoch 6/15\n",
      "25000/25000 [==============================] - 143s 6ms/step - loss: 0.0028 - acc: 1.0000 - val_loss: 0.5449 - val_acc: 0.8446\n",
      "Epoch 7/15\n",
      "25000/25000 [==============================] - 151s 6ms/step - loss: 0.0012 - acc: 1.0000 - val_loss: 0.5830 - val_acc: 0.8433\n",
      "Epoch 8/15\n",
      "25000/25000 [==============================] - 145s 6ms/step - loss: 6.1049e-04 - acc: 1.0000 - val_loss: 0.6184 - val_acc: 0.8420\n",
      "Epoch 9/15\n",
      "25000/25000 [==============================] - 147s 6ms/step - loss: 3.5808e-04 - acc: 1.0000 - val_loss: 0.6516 - val_acc: 0.8415\n",
      "Epoch 10/15\n",
      "25000/25000 [==============================] - 150s 6ms/step - loss: 2.1738e-04 - acc: 1.0000 - val_loss: 0.6838 - val_acc: 0.8405\n",
      "Epoch 11/15\n",
      "25000/25000 [==============================] - 147s 6ms/step - loss: 1.3262e-04 - acc: 1.0000 - val_loss: 0.7155 - val_acc: 0.8402\n",
      "Epoch 12/15\n",
      "25000/25000 [==============================] - 150s 6ms/step - loss: 8.1920e-05 - acc: 1.0000 - val_loss: 0.7453 - val_acc: 0.8404\n",
      "Epoch 13/15\n",
      "25000/25000 [==============================] - 156s 6ms/step - loss: 5.1205e-05 - acc: 1.0000 - val_loss: 0.7772 - val_acc: 0.8403\n",
      "Epoch 14/15\n",
      "25000/25000 [==============================] - 148s 6ms/step - loss: 3.2038e-05 - acc: 1.0000 - val_loss: 0.8070 - val_acc: 0.8401\n",
      "Epoch 15/15\n",
      "25000/25000 [==============================] - 152s 6ms/step - loss: 2.0063e-05 - acc: 1.0000 - val_loss: 0.8360 - val_acc: 0.8401\n",
      "25000/25000 [==============================] - 15s 610us/step\n",
      "Test score: 0.8360491146403551\n",
      "Test accuracy: 0.84008\n"
     ]
    }
   ],
   "source": [
    "print('Train...')\n",
    "model3.fit(X_train, y_train, batch_size=batch_size, nb_epoch=15,\n",
    "          validation_data=(X_test, y_test))\n",
    "score, acc = model3.evaluate(X_test, y_test,\n",
    "                            batch_size=batch_size)\n",
    "print('Test score:', score)\n",
    "print('Test accuracy:', acc)"
   ]
  },
  {
   "cell_type": "code",
   "execution_count": 23,
   "metadata": {},
   "outputs": [
    {
     "name": "stdout",
     "output_type": "stream",
     "text": [
      "Build model4...\n"
     ]
    },
    {
     "name": "stderr",
     "output_type": "stream",
     "text": [
      "/usr/local/lib/python3.5/dist-packages/ipykernel_launcher.py:6: UserWarning: The `dropout` argument is no longer support in `Embedding`. You can apply a `keras.layers.SpatialDropout1D` layer right after the `Embedding` layer to get the same behavior.\n",
      "  \n",
      "/usr/local/lib/python3.5/dist-packages/ipykernel_launcher.py:14: UserWarning: Update your `Model` call to the Keras 2 API: `Model(outputs=Tensor(\"ac..., inputs=Tensor(\"in...)`\n",
      "  \n"
     ]
    }
   ],
   "source": [
    "print('Build model4...')\n",
    "\n",
    "\n",
    "inputs = Input(shape=(maxlen,))\n",
    "x = inputs\n",
    "x = Embedding(max_features, 128, dropout=0.2)(x)\n",
    "x = recurrent.LSTM(128)(x)\n",
    "#x = GlobalMaxPooling1D()(x)\n",
    "#x = Flatten()(x)\n",
    "x = Dense(1)(x)\n",
    "predictions = Activation(\"sigmoid\")(x)\n",
    "\n",
    "\n",
    "model4 = Model(input=inputs, output=predictions)\n",
    "model4.compile(loss='binary_crossentropy',\n",
    "              optimizer='adam',\n",
    "              metrics=['accuracy'])"
   ]
  },
  {
   "cell_type": "code",
   "execution_count": 24,
   "metadata": {},
   "outputs": [
    {
     "name": "stdout",
     "output_type": "stream",
     "text": [
      "_________________________________________________________________\n",
      "Layer (type)                 Output Shape              Param #   \n",
      "=================================================================\n",
      "input_9 (InputLayer)         (None, 80)                0         \n",
      "_________________________________________________________________\n",
      "embedding_9 (Embedding)      (None, 80, 128)           2560000   \n",
      "_________________________________________________________________\n",
      "lstm_3 (LSTM)                (None, 128)               131584    \n",
      "_________________________________________________________________\n",
      "dense_8 (Dense)              (None, 1)                 129       \n",
      "_________________________________________________________________\n",
      "activation_5 (Activation)    (None, 1)                 0         \n",
      "=================================================================\n",
      "Total params: 2,691,713\n",
      "Trainable params: 2,691,713\n",
      "Non-trainable params: 0\n",
      "_________________________________________________________________\n"
     ]
    }
   ],
   "source": [
    "model4.summary()"
   ]
  },
  {
   "cell_type": "code",
   "execution_count": 25,
   "metadata": {},
   "outputs": [
    {
     "name": "stdout",
     "output_type": "stream",
     "text": [
      "Train...\n"
     ]
    },
    {
     "name": "stderr",
     "output_type": "stream",
     "text": [
      "/usr/local/lib/python3.5/dist-packages/ipykernel_launcher.py:3: UserWarning: The `nb_epoch` argument in `fit` has been renamed `epochs`.\n",
      "  This is separate from the ipykernel package so we can avoid doing imports until\n"
     ]
    },
    {
     "name": "stdout",
     "output_type": "stream",
     "text": [
      "Train on 25000 samples, validate on 25000 samples\n",
      "Epoch 1/15\n",
      "25000/25000 [==============================] - 400s 16ms/step - loss: 0.4344 - acc: 0.7912 - val_loss: 0.3627 - val_acc: 0.8431\n",
      "Epoch 2/15\n",
      "25000/25000 [==============================] - 396s 16ms/step - loss: 0.2473 - acc: 0.9020 - val_loss: 0.4375 - val_acc: 0.8148\n",
      "Epoch 3/15\n",
      "25000/25000 [==============================] - 402s 16ms/step - loss: 0.1490 - acc: 0.9450 - val_loss: 0.4547 - val_acc: 0.8324\n",
      "Epoch 4/15\n",
      "25000/25000 [==============================] - 405s 16ms/step - loss: 0.0923 - acc: 0.9672 - val_loss: 0.6764 - val_acc: 0.8187\n",
      "Epoch 5/15\n",
      "25000/25000 [==============================] - 397s 16ms/step - loss: 0.0603 - acc: 0.9793 - val_loss: 0.7187 - val_acc: 0.8226\n",
      "Epoch 6/15\n",
      "25000/25000 [==============================] - 396s 16ms/step - loss: 0.0409 - acc: 0.9869 - val_loss: 0.6685 - val_acc: 0.8151\n",
      "Epoch 7/15\n",
      "25000/25000 [==============================] - 397s 16ms/step - loss: 0.0306 - acc: 0.9902 - val_loss: 0.7942 - val_acc: 0.8243\n",
      "Epoch 8/15\n",
      "25000/25000 [==============================] - 440s 18ms/step - loss: 0.0277 - acc: 0.9914 - val_loss: 0.8306 - val_acc: 0.8208\n",
      "Epoch 9/15\n",
      "25000/25000 [==============================] - 337s 13ms/step - loss: 0.0246 - acc: 0.9926 - val_loss: 0.9579 - val_acc: 0.8244\n",
      "Epoch 10/15\n",
      "25000/25000 [==============================] - 341s 14ms/step - loss: 0.0124 - acc: 0.9963 - val_loss: 0.8560 - val_acc: 0.8182\n",
      "Epoch 11/15\n",
      "25000/25000 [==============================] - 333s 13ms/step - loss: 0.0091 - acc: 0.9972 - val_loss: 0.8681 - val_acc: 0.8180\n",
      "Epoch 12/15\n",
      "25000/25000 [==============================] - 331s 13ms/step - loss: 0.0154 - acc: 0.9955 - val_loss: 1.0026 - val_acc: 0.8194\n",
      "Epoch 13/15\n",
      "25000/25000 [==============================] - 327s 13ms/step - loss: 0.0040 - acc: 0.9992 - val_loss: 1.1214 - val_acc: 0.8185\n",
      "Epoch 14/15\n",
      "25000/25000 [==============================] - 333s 13ms/step - loss: 0.0082 - acc: 0.9971 - val_loss: 1.0110 - val_acc: 0.8202\n",
      "Epoch 15/15\n",
      "25000/25000 [==============================] - 329s 13ms/step - loss: 0.0159 - acc: 0.9948 - val_loss: 0.9953 - val_acc: 0.8214\n",
      "25000/25000 [==============================] - 71s 3ms/step\n",
      "Test score: 0.9953275058835744\n",
      "Test accuracy: 0.82136\n"
     ]
    }
   ],
   "source": [
    "print('Train...')\n",
    "model4.fit(X_train, y_train, batch_size=batch_size, nb_epoch=15,\n",
    "          validation_data=(X_test, y_test))\n",
    "score, acc = model4.evaluate(X_test, y_test,\n",
    "                            batch_size=batch_size)\n",
    "print('Test score:', score)\n",
    "print('Test accuracy:', acc)"
   ]
  }
 ],
 "metadata": {
  "kernelspec": {
   "display_name": "Python 3",
   "language": "python",
   "name": "python3"
  },
  "language_info": {
   "codemirror_mode": {
    "name": "ipython",
    "version": 2
   },
   "file_extension": ".py",
   "mimetype": "text/x-python",
   "name": "python",
   "nbconvert_exporter": "python",
   "pygments_lexer": "ipython2",
   "version": "2.7.14"
  }
 },
 "nbformat": 4,
 "nbformat_minor": 2
}

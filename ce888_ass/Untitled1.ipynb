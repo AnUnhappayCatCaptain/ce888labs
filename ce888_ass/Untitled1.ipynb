{
 "cells": [
  {
   "cell_type": "code",
   "execution_count": null,
   "metadata": {},
   "outputs": [],
   "source": [
    "import numpy as np\n",
    "import os\n",
    "import pandas as pd\n",
    "import sys\n",
    "import cv2\n",
    "from tpot import TPOTClassifier"
   ]
  },
  {
   "cell_type": "code",
   "execution_count": null,
   "metadata": {},
   "outputs": [],
   "source": [
    "# Firstly declare an address. This address is prepared for the next step.\n",
    "PATH = \"/home/mlvm2/ce888labs/ce888_ass/Japanese_(hiragana)\"\n",
    "\n",
    "# Create a list of items in the address we declared above.\n",
    "Charac_list = list(os.path.join(PATH, Charac) for Charac in os.listdir(PATH))\n",
    "\n",
    "def Load_train_data(rand_charac):\n",
    "    data = [\"\", 0] # first, create a list including messages we need to return.\n",
    "    rand_charac_prev = [0, 0] # rand_charac_prev is prepared for comparing the difference betwwen two data\n",
    "                              # simpy comparing the random number.\n",
    "        \n",
    "    #rand_charac = np.random.randint(52) # random choose.\n",
    "    rand_letter = np.random.randint(20) # random choose.\n",
    "    rand_charac_path = Charac_list[rand_charac]\n",
    "    Letters_list = list(os.path.join(rand_charac_path, letter) for letter in os.listdir(rand_charac_path))\n",
    "    data[0] = Letters_list[rand_letter]\n",
    "    data[1] = rand_charac\n",
    "    return data\n",
    "\n",
    "def Load_data():\n",
    "    data = [\"\", \"\", 0] # first, create a list including messages we need to return.\n",
    "    rand_charac_prev = [0, 0] # rand_charac_prev is prepared for comparing the difference betwwen two data\n",
    "                              # simpy comparing the random number.\n",
    "    for i in range(0, 2):\n",
    "        rand_charac = np.random.randint(52) # random choose.\n",
    "        rand_letter = np.random.randint(20) # random choose.\n",
    "        rand_charac_path = Charac_list[rand_charac]\n",
    "        Letters_list = list(os.path.join(rand_charac_path, letter) for letter in os.listdir(rand_charac_path))\n",
    "        data[i] = Letters_list[rand_letter]\n",
    "        rand_charac_prev[i] = rand_charac\n",
    "    if rand_charac_prev[0] != rand_charac_prev[1]: # if they are in the same folder, then they are the same,else not.\n",
    "        data[2] = 0\n",
    "    else:\n",
    "        data[2] = 1\n",
    "    return data"
   ]
  }
 ],
 "metadata": {
  "kernelspec": {
   "display_name": "Python 3",
   "language": "python",
   "name": "python3"
  },
  "language_info": {
   "codemirror_mode": {
    "name": "ipython",
    "version": 2
   },
   "file_extension": ".py",
   "mimetype": "text/x-python",
   "name": "python",
   "nbconvert_exporter": "python",
   "pygments_lexer": "ipython2",
   "version": "2.7.14"
  }
 },
 "nbformat": 4,
 "nbformat_minor": 2
}

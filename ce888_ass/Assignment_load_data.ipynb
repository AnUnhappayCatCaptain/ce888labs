{
 "cells": [
  {
   "cell_type": "code",
   "execution_count": 1,
   "metadata": {},
   "outputs": [],
   "source": [
    "# ------------------------------------------------------------------\n",
    "# Initial import.\n",
    "# ------------------------------------------------------------------\n",
    "import numpy as np\n",
    "import os\n",
    "import pandas as pd\n",
    "import sys\n",
    "import cv2\n",
    "from tpot import TPOTClassifier"
   ]
  },
  {
   "cell_type": "code",
   "execution_count": 106,
   "metadata": {},
   "outputs": [
    {
     "name": "stdout",
     "output_type": "stream",
     "text": [
      "/home/mlvm2/ce888labs/ce888_ass/Japanese_(hiragana)/character46/0533_14.png\n"
     ]
    },
    {
     "data": {
      "text/plain": [
       "'/home/mlvm2/ce888labs/ce888_ass/Japanese_(hiragana)/character01/0488_17.png'"
      ]
     },
     "execution_count": 106,
     "metadata": {},
     "output_type": "execute_result"
    }
   ],
   "source": [
    "# ------------------------------------------------------------------\n",
    "# Create a function to load the data(Actually, it is the directory of data).\n",
    "# So we can visit those data easily by visiting their address.\n",
    "# ------------------------------------------------------------------\n",
    "\n",
    "# Firstly declare an address. This address is prepared for the next step.\n",
    "PATH = \"/home/mlvm2/ce888labs/ce888_ass/Japanese_(hiragana)\"\n",
    "\n",
    "# Create a list of items in the address we declared above.\n",
    "Charac_list = list(os.path.join(PATH, Charac) for Charac in os.listdir(PATH))\n",
    "\n",
    "# print(Charac_list)\n",
    "\n",
    "# Function to load data.\n",
    "# Two images(images' address) should be included\n",
    "# Compare their differnce and label 0 or 1(0 for differnce, 1 for same).\n",
    "# Return a list included address and difference labal.\n",
    "# use them as training samples. \n",
    "def Load_data():\n",
    "    data = [\"\", \"\", 0] # first, create a list including messages we need to return.\n",
    "    rand_charac_prev = [0, 0] # rand_charac_prev is prepared for comparing the difference betwwen two data\n",
    "                              # simpy comparing the random number.\n",
    "    for i in range(0, 2):\n",
    "        rand_charac = np.random.randint(52) # random choose.\n",
    "        rand_letter = np.random.randint(20) # random choose.\n",
    "        rand_charac_path = Charac_list[rand_charac]\n",
    "        Letters_list = list(os.path.join(rand_charac_path, letter) for letter in os.listdir(rand_charac_path))\n",
    "        data[i] = Letters_list[rand_letter]\n",
    "        rand_charac_prev[i] = rand_charac\n",
    "    if rand_charac_prev[0] != rand_charac_prev[1]: # if they are in the same folder, then they are the same,else not.\n",
    "        data[2] = 0\n",
    "    else:\n",
    "        data[2] = 1\n",
    "    return data\n",
    "\n",
    "# A developed fuction only allows character 0 as the ground true.\n",
    "def Load_data_developed():\n",
    "    data = [\"\", \"\", 0]\n",
    "    rand_charac_prev = [0, 0]\n",
    "    for i in range(0, 2):\n",
    "        rand_charac = np.random.randint(2) # random choose.\n",
    "        rand_letter = np.random.randint(20) # random choose.\n",
    "        rand_charac_path = Charac_list[rand_charac]\n",
    "        Letters_list = list(os.path.join(rand_charac_path, letter) for letter in os.listdir(rand_charac_path))\n",
    "        data[i] = Letters_list[rand_letter]  \n",
    "        rand_charac_prev[i] = rand_charac\n",
    "    if  rand_charac_prev[0] != rand_charac_prev[1]: # if they are in the same folder, then they are the same,else not.\n",
    "        data[2] = 0\n",
    "    else:\n",
    "        data[2] = 1\n",
    "    return data\n",
    "\n",
    "# A developed fuction only allows character 0 as the ground true,and provide train data.\n",
    "def Load_train_data():\n",
    "    data = [\"\", \"\", 0]\n",
    "    rand_charac_prev = [0, 0]\n",
    "    for i in range(0, 2):\n",
    "        rand_charac = 0\n",
    "        if i==1:\n",
    "            rand_charac = np.random.randint(2)\n",
    "            rand_letter = np.random.randint(20) # random choose.\n",
    "        else:\n",
    "            rand_letter = 0\n",
    "        charac_path = Charac_list[rand_charac]\n",
    "        Letters_list = list(os.path.join(charac_path, letter) for letter in os.listdir(charac_path))\n",
    "        data[i] = Letters_list[rand_letter]  \n",
    "        rand_charac_prev[i] = rand_charac\n",
    "    if  rand_charac_prev[1] != 0: # if they are in the same folder, then they are the same,else not.\n",
    "        data[2] = 0\n",
    "    else:\n",
    "        data[2] = 1\n",
    "    return data\n",
    "    \n",
    "data1 = Load_data()\n",
    "print(data1[0])\n",
    "\n",
    "Data_test = [[\"test image 1\", \"test image 2\", \"difference true=0\"]]\n",
    "Data_train = [[\"train image 1\", \"train image 2\", \"difference true=0\"]]\n",
    "\n",
    "for i in range(0,1000): # we randomly get 1000 samples as our test dataset. \n",
    "    data1 = Load_data_developed()\n",
    "    Data_test.append(data1)\n",
    "\n",
    "for i in range(0,10): # we randomly get 1 samples as our train dataset. \n",
    "    data1 = Load_train_data()\n",
    "    Data_train.append(data1)\n",
    "    \n",
    "# print(Data)\n",
    "\n",
    "df1 = pd.DataFrame(Data_test) \n",
    "df2 = pd.DataFrame(Data_train)\n",
    "\n",
    "df2.iloc[1,1]"
   ]
  },
  {
   "cell_type": "code",
   "execution_count": 107,
   "metadata": {},
   "outputs": [],
   "source": [
    "# --------------------------------------------------------------------------\n",
    "# Save our data into a .csv file.\n",
    "# --------------------------------------------------------------------------\n",
    "df1.to_csv(\"Test_data\",index='False')\n",
    "df2.to_csv(\"Train_data\",index='False')"
   ]
  },
  {
   "cell_type": "code",
   "execution_count": 108,
   "metadata": {},
   "outputs": [
    {
     "data": {
      "text/html": [
       "<div>\n",
       "<style scoped>\n",
       "    .dataframe tbody tr th:only-of-type {\n",
       "        vertical-align: middle;\n",
       "    }\n",
       "\n",
       "    .dataframe tbody tr th {\n",
       "        vertical-align: top;\n",
       "    }\n",
       "\n",
       "    .dataframe thead th {\n",
       "        text-align: right;\n",
       "    }\n",
       "</style>\n",
       "<table border=\"1\" class=\"dataframe\">\n",
       "  <thead>\n",
       "    <tr style=\"text-align: right;\">\n",
       "      <th></th>\n",
       "      <th>0</th>\n",
       "      <th>1</th>\n",
       "      <th>2</th>\n",
       "    </tr>\n",
       "  </thead>\n",
       "  <tbody>\n",
       "    <tr>\n",
       "      <th>0</th>\n",
       "      <td>train image 1</td>\n",
       "      <td>train image 2</td>\n",
       "      <td>difference true=0</td>\n",
       "    </tr>\n",
       "    <tr>\n",
       "      <th>1</th>\n",
       "      <td>/home/mlvm2/ce888labs/ce888_ass/Japanese_(hira...</td>\n",
       "      <td>/home/mlvm2/ce888labs/ce888_ass/Japanese_(hira...</td>\n",
       "      <td>1</td>\n",
       "    </tr>\n",
       "    <tr>\n",
       "      <th>2</th>\n",
       "      <td>/home/mlvm2/ce888labs/ce888_ass/Japanese_(hira...</td>\n",
       "      <td>/home/mlvm2/ce888labs/ce888_ass/Japanese_(hira...</td>\n",
       "      <td>0</td>\n",
       "    </tr>\n",
       "    <tr>\n",
       "      <th>3</th>\n",
       "      <td>/home/mlvm2/ce888labs/ce888_ass/Japanese_(hira...</td>\n",
       "      <td>/home/mlvm2/ce888labs/ce888_ass/Japanese_(hira...</td>\n",
       "      <td>0</td>\n",
       "    </tr>\n",
       "    <tr>\n",
       "      <th>4</th>\n",
       "      <td>/home/mlvm2/ce888labs/ce888_ass/Japanese_(hira...</td>\n",
       "      <td>/home/mlvm2/ce888labs/ce888_ass/Japanese_(hira...</td>\n",
       "      <td>0</td>\n",
       "    </tr>\n",
       "    <tr>\n",
       "      <th>5</th>\n",
       "      <td>/home/mlvm2/ce888labs/ce888_ass/Japanese_(hira...</td>\n",
       "      <td>/home/mlvm2/ce888labs/ce888_ass/Japanese_(hira...</td>\n",
       "      <td>0</td>\n",
       "    </tr>\n",
       "    <tr>\n",
       "      <th>6</th>\n",
       "      <td>/home/mlvm2/ce888labs/ce888_ass/Japanese_(hira...</td>\n",
       "      <td>/home/mlvm2/ce888labs/ce888_ass/Japanese_(hira...</td>\n",
       "      <td>1</td>\n",
       "    </tr>\n",
       "    <tr>\n",
       "      <th>7</th>\n",
       "      <td>/home/mlvm2/ce888labs/ce888_ass/Japanese_(hira...</td>\n",
       "      <td>/home/mlvm2/ce888labs/ce888_ass/Japanese_(hira...</td>\n",
       "      <td>0</td>\n",
       "    </tr>\n",
       "    <tr>\n",
       "      <th>8</th>\n",
       "      <td>/home/mlvm2/ce888labs/ce888_ass/Japanese_(hira...</td>\n",
       "      <td>/home/mlvm2/ce888labs/ce888_ass/Japanese_(hira...</td>\n",
       "      <td>1</td>\n",
       "    </tr>\n",
       "    <tr>\n",
       "      <th>9</th>\n",
       "      <td>/home/mlvm2/ce888labs/ce888_ass/Japanese_(hira...</td>\n",
       "      <td>/home/mlvm2/ce888labs/ce888_ass/Japanese_(hira...</td>\n",
       "      <td>0</td>\n",
       "    </tr>\n",
       "    <tr>\n",
       "      <th>10</th>\n",
       "      <td>/home/mlvm2/ce888labs/ce888_ass/Japanese_(hira...</td>\n",
       "      <td>/home/mlvm2/ce888labs/ce888_ass/Japanese_(hira...</td>\n",
       "      <td>0</td>\n",
       "    </tr>\n",
       "  </tbody>\n",
       "</table>\n",
       "</div>"
      ],
      "text/plain": [
       "                                                    0  \\\n",
       "0                                       train image 1   \n",
       "1   /home/mlvm2/ce888labs/ce888_ass/Japanese_(hira...   \n",
       "2   /home/mlvm2/ce888labs/ce888_ass/Japanese_(hira...   \n",
       "3   /home/mlvm2/ce888labs/ce888_ass/Japanese_(hira...   \n",
       "4   /home/mlvm2/ce888labs/ce888_ass/Japanese_(hira...   \n",
       "5   /home/mlvm2/ce888labs/ce888_ass/Japanese_(hira...   \n",
       "6   /home/mlvm2/ce888labs/ce888_ass/Japanese_(hira...   \n",
       "7   /home/mlvm2/ce888labs/ce888_ass/Japanese_(hira...   \n",
       "8   /home/mlvm2/ce888labs/ce888_ass/Japanese_(hira...   \n",
       "9   /home/mlvm2/ce888labs/ce888_ass/Japanese_(hira...   \n",
       "10  /home/mlvm2/ce888labs/ce888_ass/Japanese_(hira...   \n",
       "\n",
       "                                                    1                  2  \n",
       "0                                       train image 2  difference true=0  \n",
       "1   /home/mlvm2/ce888labs/ce888_ass/Japanese_(hira...                  1  \n",
       "2   /home/mlvm2/ce888labs/ce888_ass/Japanese_(hira...                  0  \n",
       "3   /home/mlvm2/ce888labs/ce888_ass/Japanese_(hira...                  0  \n",
       "4   /home/mlvm2/ce888labs/ce888_ass/Japanese_(hira...                  0  \n",
       "5   /home/mlvm2/ce888labs/ce888_ass/Japanese_(hira...                  0  \n",
       "6   /home/mlvm2/ce888labs/ce888_ass/Japanese_(hira...                  1  \n",
       "7   /home/mlvm2/ce888labs/ce888_ass/Japanese_(hira...                  0  \n",
       "8   /home/mlvm2/ce888labs/ce888_ass/Japanese_(hira...                  1  \n",
       "9   /home/mlvm2/ce888labs/ce888_ass/Japanese_(hira...                  0  \n",
       "10  /home/mlvm2/ce888labs/ce888_ass/Japanese_(hira...                  0  "
      ]
     },
     "execution_count": 108,
     "metadata": {},
     "output_type": "execute_result"
    }
   ],
   "source": [
    "df2"
   ]
  },
  {
   "cell_type": "code",
   "execution_count": 109,
   "metadata": {
    "scrolled": true
   },
   "outputs": [
    {
     "data": {
      "text/html": [
       "<div>\n",
       "<style scoped>\n",
       "    .dataframe tbody tr th:only-of-type {\n",
       "        vertical-align: middle;\n",
       "    }\n",
       "\n",
       "    .dataframe tbody tr th {\n",
       "        vertical-align: top;\n",
       "    }\n",
       "\n",
       "    .dataframe thead th {\n",
       "        text-align: right;\n",
       "    }\n",
       "</style>\n",
       "<table border=\"1\" class=\"dataframe\">\n",
       "  <thead>\n",
       "    <tr style=\"text-align: right;\">\n",
       "      <th></th>\n",
       "      <th>0</th>\n",
       "      <th>1</th>\n",
       "      <th>2</th>\n",
       "    </tr>\n",
       "  </thead>\n",
       "  <tbody>\n",
       "    <tr>\n",
       "      <th>1</th>\n",
       "      <td>/home/mlvm2/ce888labs/ce888_ass/Japanese_(hira...</td>\n",
       "      <td>/home/mlvm2/ce888labs/ce888_ass/Japanese_(hira...</td>\n",
       "      <td>0</td>\n",
       "    </tr>\n",
       "    <tr>\n",
       "      <th>2</th>\n",
       "      <td>/home/mlvm2/ce888labs/ce888_ass/Japanese_(hira...</td>\n",
       "      <td>/home/mlvm2/ce888labs/ce888_ass/Japanese_(hira...</td>\n",
       "      <td>1</td>\n",
       "    </tr>\n",
       "    <tr>\n",
       "      <th>3</th>\n",
       "      <td>/home/mlvm2/ce888labs/ce888_ass/Japanese_(hira...</td>\n",
       "      <td>/home/mlvm2/ce888labs/ce888_ass/Japanese_(hira...</td>\n",
       "      <td>1</td>\n",
       "    </tr>\n",
       "    <tr>\n",
       "      <th>4</th>\n",
       "      <td>/home/mlvm2/ce888labs/ce888_ass/Japanese_(hira...</td>\n",
       "      <td>/home/mlvm2/ce888labs/ce888_ass/Japanese_(hira...</td>\n",
       "      <td>0</td>\n",
       "    </tr>\n",
       "    <tr>\n",
       "      <th>5</th>\n",
       "      <td>/home/mlvm2/ce888labs/ce888_ass/Japanese_(hira...</td>\n",
       "      <td>/home/mlvm2/ce888labs/ce888_ass/Japanese_(hira...</td>\n",
       "      <td>1</td>\n",
       "    </tr>\n",
       "    <tr>\n",
       "      <th>6</th>\n",
       "      <td>/home/mlvm2/ce888labs/ce888_ass/Japanese_(hira...</td>\n",
       "      <td>/home/mlvm2/ce888labs/ce888_ass/Japanese_(hira...</td>\n",
       "      <td>1</td>\n",
       "    </tr>\n",
       "    <tr>\n",
       "      <th>7</th>\n",
       "      <td>/home/mlvm2/ce888labs/ce888_ass/Japanese_(hira...</td>\n",
       "      <td>/home/mlvm2/ce888labs/ce888_ass/Japanese_(hira...</td>\n",
       "      <td>0</td>\n",
       "    </tr>\n",
       "    <tr>\n",
       "      <th>8</th>\n",
       "      <td>/home/mlvm2/ce888labs/ce888_ass/Japanese_(hira...</td>\n",
       "      <td>/home/mlvm2/ce888labs/ce888_ass/Japanese_(hira...</td>\n",
       "      <td>0</td>\n",
       "    </tr>\n",
       "    <tr>\n",
       "      <th>9</th>\n",
       "      <td>/home/mlvm2/ce888labs/ce888_ass/Japanese_(hira...</td>\n",
       "      <td>/home/mlvm2/ce888labs/ce888_ass/Japanese_(hira...</td>\n",
       "      <td>0</td>\n",
       "    </tr>\n",
       "    <tr>\n",
       "      <th>10</th>\n",
       "      <td>/home/mlvm2/ce888labs/ce888_ass/Japanese_(hira...</td>\n",
       "      <td>/home/mlvm2/ce888labs/ce888_ass/Japanese_(hira...</td>\n",
       "      <td>0</td>\n",
       "    </tr>\n",
       "    <tr>\n",
       "      <th>11</th>\n",
       "      <td>/home/mlvm2/ce888labs/ce888_ass/Japanese_(hira...</td>\n",
       "      <td>/home/mlvm2/ce888labs/ce888_ass/Japanese_(hira...</td>\n",
       "      <td>0</td>\n",
       "    </tr>\n",
       "    <tr>\n",
       "      <th>12</th>\n",
       "      <td>/home/mlvm2/ce888labs/ce888_ass/Japanese_(hira...</td>\n",
       "      <td>/home/mlvm2/ce888labs/ce888_ass/Japanese_(hira...</td>\n",
       "      <td>0</td>\n",
       "    </tr>\n",
       "    <tr>\n",
       "      <th>13</th>\n",
       "      <td>/home/mlvm2/ce888labs/ce888_ass/Japanese_(hira...</td>\n",
       "      <td>/home/mlvm2/ce888labs/ce888_ass/Japanese_(hira...</td>\n",
       "      <td>0</td>\n",
       "    </tr>\n",
       "    <tr>\n",
       "      <th>14</th>\n",
       "      <td>/home/mlvm2/ce888labs/ce888_ass/Japanese_(hira...</td>\n",
       "      <td>/home/mlvm2/ce888labs/ce888_ass/Japanese_(hira...</td>\n",
       "      <td>1</td>\n",
       "    </tr>\n",
       "    <tr>\n",
       "      <th>15</th>\n",
       "      <td>/home/mlvm2/ce888labs/ce888_ass/Japanese_(hira...</td>\n",
       "      <td>/home/mlvm2/ce888labs/ce888_ass/Japanese_(hira...</td>\n",
       "      <td>1</td>\n",
       "    </tr>\n",
       "    <tr>\n",
       "      <th>16</th>\n",
       "      <td>/home/mlvm2/ce888labs/ce888_ass/Japanese_(hira...</td>\n",
       "      <td>/home/mlvm2/ce888labs/ce888_ass/Japanese_(hira...</td>\n",
       "      <td>0</td>\n",
       "    </tr>\n",
       "    <tr>\n",
       "      <th>17</th>\n",
       "      <td>/home/mlvm2/ce888labs/ce888_ass/Japanese_(hira...</td>\n",
       "      <td>/home/mlvm2/ce888labs/ce888_ass/Japanese_(hira...</td>\n",
       "      <td>1</td>\n",
       "    </tr>\n",
       "    <tr>\n",
       "      <th>18</th>\n",
       "      <td>/home/mlvm2/ce888labs/ce888_ass/Japanese_(hira...</td>\n",
       "      <td>/home/mlvm2/ce888labs/ce888_ass/Japanese_(hira...</td>\n",
       "      <td>1</td>\n",
       "    </tr>\n",
       "    <tr>\n",
       "      <th>19</th>\n",
       "      <td>/home/mlvm2/ce888labs/ce888_ass/Japanese_(hira...</td>\n",
       "      <td>/home/mlvm2/ce888labs/ce888_ass/Japanese_(hira...</td>\n",
       "      <td>0</td>\n",
       "    </tr>\n",
       "    <tr>\n",
       "      <th>20</th>\n",
       "      <td>/home/mlvm2/ce888labs/ce888_ass/Japanese_(hira...</td>\n",
       "      <td>/home/mlvm2/ce888labs/ce888_ass/Japanese_(hira...</td>\n",
       "      <td>1</td>\n",
       "    </tr>\n",
       "    <tr>\n",
       "      <th>21</th>\n",
       "      <td>/home/mlvm2/ce888labs/ce888_ass/Japanese_(hira...</td>\n",
       "      <td>/home/mlvm2/ce888labs/ce888_ass/Japanese_(hira...</td>\n",
       "      <td>0</td>\n",
       "    </tr>\n",
       "    <tr>\n",
       "      <th>22</th>\n",
       "      <td>/home/mlvm2/ce888labs/ce888_ass/Japanese_(hira...</td>\n",
       "      <td>/home/mlvm2/ce888labs/ce888_ass/Japanese_(hira...</td>\n",
       "      <td>1</td>\n",
       "    </tr>\n",
       "    <tr>\n",
       "      <th>23</th>\n",
       "      <td>/home/mlvm2/ce888labs/ce888_ass/Japanese_(hira...</td>\n",
       "      <td>/home/mlvm2/ce888labs/ce888_ass/Japanese_(hira...</td>\n",
       "      <td>1</td>\n",
       "    </tr>\n",
       "    <tr>\n",
       "      <th>24</th>\n",
       "      <td>/home/mlvm2/ce888labs/ce888_ass/Japanese_(hira...</td>\n",
       "      <td>/home/mlvm2/ce888labs/ce888_ass/Japanese_(hira...</td>\n",
       "      <td>0</td>\n",
       "    </tr>\n",
       "    <tr>\n",
       "      <th>25</th>\n",
       "      <td>/home/mlvm2/ce888labs/ce888_ass/Japanese_(hira...</td>\n",
       "      <td>/home/mlvm2/ce888labs/ce888_ass/Japanese_(hira...</td>\n",
       "      <td>0</td>\n",
       "    </tr>\n",
       "    <tr>\n",
       "      <th>26</th>\n",
       "      <td>/home/mlvm2/ce888labs/ce888_ass/Japanese_(hira...</td>\n",
       "      <td>/home/mlvm2/ce888labs/ce888_ass/Japanese_(hira...</td>\n",
       "      <td>0</td>\n",
       "    </tr>\n",
       "    <tr>\n",
       "      <th>27</th>\n",
       "      <td>/home/mlvm2/ce888labs/ce888_ass/Japanese_(hira...</td>\n",
       "      <td>/home/mlvm2/ce888labs/ce888_ass/Japanese_(hira...</td>\n",
       "      <td>0</td>\n",
       "    </tr>\n",
       "    <tr>\n",
       "      <th>28</th>\n",
       "      <td>/home/mlvm2/ce888labs/ce888_ass/Japanese_(hira...</td>\n",
       "      <td>/home/mlvm2/ce888labs/ce888_ass/Japanese_(hira...</td>\n",
       "      <td>1</td>\n",
       "    </tr>\n",
       "    <tr>\n",
       "      <th>29</th>\n",
       "      <td>/home/mlvm2/ce888labs/ce888_ass/Japanese_(hira...</td>\n",
       "      <td>/home/mlvm2/ce888labs/ce888_ass/Japanese_(hira...</td>\n",
       "      <td>0</td>\n",
       "    </tr>\n",
       "    <tr>\n",
       "      <th>30</th>\n",
       "      <td>/home/mlvm2/ce888labs/ce888_ass/Japanese_(hira...</td>\n",
       "      <td>/home/mlvm2/ce888labs/ce888_ass/Japanese_(hira...</td>\n",
       "      <td>0</td>\n",
       "    </tr>\n",
       "    <tr>\n",
       "      <th>...</th>\n",
       "      <td>...</td>\n",
       "      <td>...</td>\n",
       "      <td>...</td>\n",
       "    </tr>\n",
       "    <tr>\n",
       "      <th>971</th>\n",
       "      <td>/home/mlvm2/ce888labs/ce888_ass/Japanese_(hira...</td>\n",
       "      <td>/home/mlvm2/ce888labs/ce888_ass/Japanese_(hira...</td>\n",
       "      <td>1</td>\n",
       "    </tr>\n",
       "    <tr>\n",
       "      <th>972</th>\n",
       "      <td>/home/mlvm2/ce888labs/ce888_ass/Japanese_(hira...</td>\n",
       "      <td>/home/mlvm2/ce888labs/ce888_ass/Japanese_(hira...</td>\n",
       "      <td>1</td>\n",
       "    </tr>\n",
       "    <tr>\n",
       "      <th>973</th>\n",
       "      <td>/home/mlvm2/ce888labs/ce888_ass/Japanese_(hira...</td>\n",
       "      <td>/home/mlvm2/ce888labs/ce888_ass/Japanese_(hira...</td>\n",
       "      <td>0</td>\n",
       "    </tr>\n",
       "    <tr>\n",
       "      <th>974</th>\n",
       "      <td>/home/mlvm2/ce888labs/ce888_ass/Japanese_(hira...</td>\n",
       "      <td>/home/mlvm2/ce888labs/ce888_ass/Japanese_(hira...</td>\n",
       "      <td>0</td>\n",
       "    </tr>\n",
       "    <tr>\n",
       "      <th>975</th>\n",
       "      <td>/home/mlvm2/ce888labs/ce888_ass/Japanese_(hira...</td>\n",
       "      <td>/home/mlvm2/ce888labs/ce888_ass/Japanese_(hira...</td>\n",
       "      <td>1</td>\n",
       "    </tr>\n",
       "    <tr>\n",
       "      <th>976</th>\n",
       "      <td>/home/mlvm2/ce888labs/ce888_ass/Japanese_(hira...</td>\n",
       "      <td>/home/mlvm2/ce888labs/ce888_ass/Japanese_(hira...</td>\n",
       "      <td>0</td>\n",
       "    </tr>\n",
       "    <tr>\n",
       "      <th>977</th>\n",
       "      <td>/home/mlvm2/ce888labs/ce888_ass/Japanese_(hira...</td>\n",
       "      <td>/home/mlvm2/ce888labs/ce888_ass/Japanese_(hira...</td>\n",
       "      <td>0</td>\n",
       "    </tr>\n",
       "    <tr>\n",
       "      <th>978</th>\n",
       "      <td>/home/mlvm2/ce888labs/ce888_ass/Japanese_(hira...</td>\n",
       "      <td>/home/mlvm2/ce888labs/ce888_ass/Japanese_(hira...</td>\n",
       "      <td>0</td>\n",
       "    </tr>\n",
       "    <tr>\n",
       "      <th>979</th>\n",
       "      <td>/home/mlvm2/ce888labs/ce888_ass/Japanese_(hira...</td>\n",
       "      <td>/home/mlvm2/ce888labs/ce888_ass/Japanese_(hira...</td>\n",
       "      <td>0</td>\n",
       "    </tr>\n",
       "    <tr>\n",
       "      <th>980</th>\n",
       "      <td>/home/mlvm2/ce888labs/ce888_ass/Japanese_(hira...</td>\n",
       "      <td>/home/mlvm2/ce888labs/ce888_ass/Japanese_(hira...</td>\n",
       "      <td>1</td>\n",
       "    </tr>\n",
       "    <tr>\n",
       "      <th>981</th>\n",
       "      <td>/home/mlvm2/ce888labs/ce888_ass/Japanese_(hira...</td>\n",
       "      <td>/home/mlvm2/ce888labs/ce888_ass/Japanese_(hira...</td>\n",
       "      <td>0</td>\n",
       "    </tr>\n",
       "    <tr>\n",
       "      <th>982</th>\n",
       "      <td>/home/mlvm2/ce888labs/ce888_ass/Japanese_(hira...</td>\n",
       "      <td>/home/mlvm2/ce888labs/ce888_ass/Japanese_(hira...</td>\n",
       "      <td>0</td>\n",
       "    </tr>\n",
       "    <tr>\n",
       "      <th>983</th>\n",
       "      <td>/home/mlvm2/ce888labs/ce888_ass/Japanese_(hira...</td>\n",
       "      <td>/home/mlvm2/ce888labs/ce888_ass/Japanese_(hira...</td>\n",
       "      <td>1</td>\n",
       "    </tr>\n",
       "    <tr>\n",
       "      <th>984</th>\n",
       "      <td>/home/mlvm2/ce888labs/ce888_ass/Japanese_(hira...</td>\n",
       "      <td>/home/mlvm2/ce888labs/ce888_ass/Japanese_(hira...</td>\n",
       "      <td>1</td>\n",
       "    </tr>\n",
       "    <tr>\n",
       "      <th>985</th>\n",
       "      <td>/home/mlvm2/ce888labs/ce888_ass/Japanese_(hira...</td>\n",
       "      <td>/home/mlvm2/ce888labs/ce888_ass/Japanese_(hira...</td>\n",
       "      <td>1</td>\n",
       "    </tr>\n",
       "    <tr>\n",
       "      <th>986</th>\n",
       "      <td>/home/mlvm2/ce888labs/ce888_ass/Japanese_(hira...</td>\n",
       "      <td>/home/mlvm2/ce888labs/ce888_ass/Japanese_(hira...</td>\n",
       "      <td>0</td>\n",
       "    </tr>\n",
       "    <tr>\n",
       "      <th>987</th>\n",
       "      <td>/home/mlvm2/ce888labs/ce888_ass/Japanese_(hira...</td>\n",
       "      <td>/home/mlvm2/ce888labs/ce888_ass/Japanese_(hira...</td>\n",
       "      <td>1</td>\n",
       "    </tr>\n",
       "    <tr>\n",
       "      <th>988</th>\n",
       "      <td>/home/mlvm2/ce888labs/ce888_ass/Japanese_(hira...</td>\n",
       "      <td>/home/mlvm2/ce888labs/ce888_ass/Japanese_(hira...</td>\n",
       "      <td>1</td>\n",
       "    </tr>\n",
       "    <tr>\n",
       "      <th>989</th>\n",
       "      <td>/home/mlvm2/ce888labs/ce888_ass/Japanese_(hira...</td>\n",
       "      <td>/home/mlvm2/ce888labs/ce888_ass/Japanese_(hira...</td>\n",
       "      <td>0</td>\n",
       "    </tr>\n",
       "    <tr>\n",
       "      <th>990</th>\n",
       "      <td>/home/mlvm2/ce888labs/ce888_ass/Japanese_(hira...</td>\n",
       "      <td>/home/mlvm2/ce888labs/ce888_ass/Japanese_(hira...</td>\n",
       "      <td>1</td>\n",
       "    </tr>\n",
       "    <tr>\n",
       "      <th>991</th>\n",
       "      <td>/home/mlvm2/ce888labs/ce888_ass/Japanese_(hira...</td>\n",
       "      <td>/home/mlvm2/ce888labs/ce888_ass/Japanese_(hira...</td>\n",
       "      <td>1</td>\n",
       "    </tr>\n",
       "    <tr>\n",
       "      <th>992</th>\n",
       "      <td>/home/mlvm2/ce888labs/ce888_ass/Japanese_(hira...</td>\n",
       "      <td>/home/mlvm2/ce888labs/ce888_ass/Japanese_(hira...</td>\n",
       "      <td>1</td>\n",
       "    </tr>\n",
       "    <tr>\n",
       "      <th>993</th>\n",
       "      <td>/home/mlvm2/ce888labs/ce888_ass/Japanese_(hira...</td>\n",
       "      <td>/home/mlvm2/ce888labs/ce888_ass/Japanese_(hira...</td>\n",
       "      <td>1</td>\n",
       "    </tr>\n",
       "    <tr>\n",
       "      <th>994</th>\n",
       "      <td>/home/mlvm2/ce888labs/ce888_ass/Japanese_(hira...</td>\n",
       "      <td>/home/mlvm2/ce888labs/ce888_ass/Japanese_(hira...</td>\n",
       "      <td>1</td>\n",
       "    </tr>\n",
       "    <tr>\n",
       "      <th>995</th>\n",
       "      <td>/home/mlvm2/ce888labs/ce888_ass/Japanese_(hira...</td>\n",
       "      <td>/home/mlvm2/ce888labs/ce888_ass/Japanese_(hira...</td>\n",
       "      <td>1</td>\n",
       "    </tr>\n",
       "    <tr>\n",
       "      <th>996</th>\n",
       "      <td>/home/mlvm2/ce888labs/ce888_ass/Japanese_(hira...</td>\n",
       "      <td>/home/mlvm2/ce888labs/ce888_ass/Japanese_(hira...</td>\n",
       "      <td>1</td>\n",
       "    </tr>\n",
       "    <tr>\n",
       "      <th>997</th>\n",
       "      <td>/home/mlvm2/ce888labs/ce888_ass/Japanese_(hira...</td>\n",
       "      <td>/home/mlvm2/ce888labs/ce888_ass/Japanese_(hira...</td>\n",
       "      <td>0</td>\n",
       "    </tr>\n",
       "    <tr>\n",
       "      <th>998</th>\n",
       "      <td>/home/mlvm2/ce888labs/ce888_ass/Japanese_(hira...</td>\n",
       "      <td>/home/mlvm2/ce888labs/ce888_ass/Japanese_(hira...</td>\n",
       "      <td>1</td>\n",
       "    </tr>\n",
       "    <tr>\n",
       "      <th>999</th>\n",
       "      <td>/home/mlvm2/ce888labs/ce888_ass/Japanese_(hira...</td>\n",
       "      <td>/home/mlvm2/ce888labs/ce888_ass/Japanese_(hira...</td>\n",
       "      <td>1</td>\n",
       "    </tr>\n",
       "    <tr>\n",
       "      <th>1000</th>\n",
       "      <td>/home/mlvm2/ce888labs/ce888_ass/Japanese_(hira...</td>\n",
       "      <td>/home/mlvm2/ce888labs/ce888_ass/Japanese_(hira...</td>\n",
       "      <td>1</td>\n",
       "    </tr>\n",
       "  </tbody>\n",
       "</table>\n",
       "<p>1000 rows × 3 columns</p>\n",
       "</div>"
      ],
      "text/plain": [
       "                                                      0  \\\n",
       "1     /home/mlvm2/ce888labs/ce888_ass/Japanese_(hira...   \n",
       "2     /home/mlvm2/ce888labs/ce888_ass/Japanese_(hira...   \n",
       "3     /home/mlvm2/ce888labs/ce888_ass/Japanese_(hira...   \n",
       "4     /home/mlvm2/ce888labs/ce888_ass/Japanese_(hira...   \n",
       "5     /home/mlvm2/ce888labs/ce888_ass/Japanese_(hira...   \n",
       "6     /home/mlvm2/ce888labs/ce888_ass/Japanese_(hira...   \n",
       "7     /home/mlvm2/ce888labs/ce888_ass/Japanese_(hira...   \n",
       "8     /home/mlvm2/ce888labs/ce888_ass/Japanese_(hira...   \n",
       "9     /home/mlvm2/ce888labs/ce888_ass/Japanese_(hira...   \n",
       "10    /home/mlvm2/ce888labs/ce888_ass/Japanese_(hira...   \n",
       "11    /home/mlvm2/ce888labs/ce888_ass/Japanese_(hira...   \n",
       "12    /home/mlvm2/ce888labs/ce888_ass/Japanese_(hira...   \n",
       "13    /home/mlvm2/ce888labs/ce888_ass/Japanese_(hira...   \n",
       "14    /home/mlvm2/ce888labs/ce888_ass/Japanese_(hira...   \n",
       "15    /home/mlvm2/ce888labs/ce888_ass/Japanese_(hira...   \n",
       "16    /home/mlvm2/ce888labs/ce888_ass/Japanese_(hira...   \n",
       "17    /home/mlvm2/ce888labs/ce888_ass/Japanese_(hira...   \n",
       "18    /home/mlvm2/ce888labs/ce888_ass/Japanese_(hira...   \n",
       "19    /home/mlvm2/ce888labs/ce888_ass/Japanese_(hira...   \n",
       "20    /home/mlvm2/ce888labs/ce888_ass/Japanese_(hira...   \n",
       "21    /home/mlvm2/ce888labs/ce888_ass/Japanese_(hira...   \n",
       "22    /home/mlvm2/ce888labs/ce888_ass/Japanese_(hira...   \n",
       "23    /home/mlvm2/ce888labs/ce888_ass/Japanese_(hira...   \n",
       "24    /home/mlvm2/ce888labs/ce888_ass/Japanese_(hira...   \n",
       "25    /home/mlvm2/ce888labs/ce888_ass/Japanese_(hira...   \n",
       "26    /home/mlvm2/ce888labs/ce888_ass/Japanese_(hira...   \n",
       "27    /home/mlvm2/ce888labs/ce888_ass/Japanese_(hira...   \n",
       "28    /home/mlvm2/ce888labs/ce888_ass/Japanese_(hira...   \n",
       "29    /home/mlvm2/ce888labs/ce888_ass/Japanese_(hira...   \n",
       "30    /home/mlvm2/ce888labs/ce888_ass/Japanese_(hira...   \n",
       "...                                                 ...   \n",
       "971   /home/mlvm2/ce888labs/ce888_ass/Japanese_(hira...   \n",
       "972   /home/mlvm2/ce888labs/ce888_ass/Japanese_(hira...   \n",
       "973   /home/mlvm2/ce888labs/ce888_ass/Japanese_(hira...   \n",
       "974   /home/mlvm2/ce888labs/ce888_ass/Japanese_(hira...   \n",
       "975   /home/mlvm2/ce888labs/ce888_ass/Japanese_(hira...   \n",
       "976   /home/mlvm2/ce888labs/ce888_ass/Japanese_(hira...   \n",
       "977   /home/mlvm2/ce888labs/ce888_ass/Japanese_(hira...   \n",
       "978   /home/mlvm2/ce888labs/ce888_ass/Japanese_(hira...   \n",
       "979   /home/mlvm2/ce888labs/ce888_ass/Japanese_(hira...   \n",
       "980   /home/mlvm2/ce888labs/ce888_ass/Japanese_(hira...   \n",
       "981   /home/mlvm2/ce888labs/ce888_ass/Japanese_(hira...   \n",
       "982   /home/mlvm2/ce888labs/ce888_ass/Japanese_(hira...   \n",
       "983   /home/mlvm2/ce888labs/ce888_ass/Japanese_(hira...   \n",
       "984   /home/mlvm2/ce888labs/ce888_ass/Japanese_(hira...   \n",
       "985   /home/mlvm2/ce888labs/ce888_ass/Japanese_(hira...   \n",
       "986   /home/mlvm2/ce888labs/ce888_ass/Japanese_(hira...   \n",
       "987   /home/mlvm2/ce888labs/ce888_ass/Japanese_(hira...   \n",
       "988   /home/mlvm2/ce888labs/ce888_ass/Japanese_(hira...   \n",
       "989   /home/mlvm2/ce888labs/ce888_ass/Japanese_(hira...   \n",
       "990   /home/mlvm2/ce888labs/ce888_ass/Japanese_(hira...   \n",
       "991   /home/mlvm2/ce888labs/ce888_ass/Japanese_(hira...   \n",
       "992   /home/mlvm2/ce888labs/ce888_ass/Japanese_(hira...   \n",
       "993   /home/mlvm2/ce888labs/ce888_ass/Japanese_(hira...   \n",
       "994   /home/mlvm2/ce888labs/ce888_ass/Japanese_(hira...   \n",
       "995   /home/mlvm2/ce888labs/ce888_ass/Japanese_(hira...   \n",
       "996   /home/mlvm2/ce888labs/ce888_ass/Japanese_(hira...   \n",
       "997   /home/mlvm2/ce888labs/ce888_ass/Japanese_(hira...   \n",
       "998   /home/mlvm2/ce888labs/ce888_ass/Japanese_(hira...   \n",
       "999   /home/mlvm2/ce888labs/ce888_ass/Japanese_(hira...   \n",
       "1000  /home/mlvm2/ce888labs/ce888_ass/Japanese_(hira...   \n",
       "\n",
       "                                                      1  2  \n",
       "1     /home/mlvm2/ce888labs/ce888_ass/Japanese_(hira...  0  \n",
       "2     /home/mlvm2/ce888labs/ce888_ass/Japanese_(hira...  1  \n",
       "3     /home/mlvm2/ce888labs/ce888_ass/Japanese_(hira...  1  \n",
       "4     /home/mlvm2/ce888labs/ce888_ass/Japanese_(hira...  0  \n",
       "5     /home/mlvm2/ce888labs/ce888_ass/Japanese_(hira...  1  \n",
       "6     /home/mlvm2/ce888labs/ce888_ass/Japanese_(hira...  1  \n",
       "7     /home/mlvm2/ce888labs/ce888_ass/Japanese_(hira...  0  \n",
       "8     /home/mlvm2/ce888labs/ce888_ass/Japanese_(hira...  0  \n",
       "9     /home/mlvm2/ce888labs/ce888_ass/Japanese_(hira...  0  \n",
       "10    /home/mlvm2/ce888labs/ce888_ass/Japanese_(hira...  0  \n",
       "11    /home/mlvm2/ce888labs/ce888_ass/Japanese_(hira...  0  \n",
       "12    /home/mlvm2/ce888labs/ce888_ass/Japanese_(hira...  0  \n",
       "13    /home/mlvm2/ce888labs/ce888_ass/Japanese_(hira...  0  \n",
       "14    /home/mlvm2/ce888labs/ce888_ass/Japanese_(hira...  1  \n",
       "15    /home/mlvm2/ce888labs/ce888_ass/Japanese_(hira...  1  \n",
       "16    /home/mlvm2/ce888labs/ce888_ass/Japanese_(hira...  0  \n",
       "17    /home/mlvm2/ce888labs/ce888_ass/Japanese_(hira...  1  \n",
       "18    /home/mlvm2/ce888labs/ce888_ass/Japanese_(hira...  1  \n",
       "19    /home/mlvm2/ce888labs/ce888_ass/Japanese_(hira...  0  \n",
       "20    /home/mlvm2/ce888labs/ce888_ass/Japanese_(hira...  1  \n",
       "21    /home/mlvm2/ce888labs/ce888_ass/Japanese_(hira...  0  \n",
       "22    /home/mlvm2/ce888labs/ce888_ass/Japanese_(hira...  1  \n",
       "23    /home/mlvm2/ce888labs/ce888_ass/Japanese_(hira...  1  \n",
       "24    /home/mlvm2/ce888labs/ce888_ass/Japanese_(hira...  0  \n",
       "25    /home/mlvm2/ce888labs/ce888_ass/Japanese_(hira...  0  \n",
       "26    /home/mlvm2/ce888labs/ce888_ass/Japanese_(hira...  0  \n",
       "27    /home/mlvm2/ce888labs/ce888_ass/Japanese_(hira...  0  \n",
       "28    /home/mlvm2/ce888labs/ce888_ass/Japanese_(hira...  1  \n",
       "29    /home/mlvm2/ce888labs/ce888_ass/Japanese_(hira...  0  \n",
       "30    /home/mlvm2/ce888labs/ce888_ass/Japanese_(hira...  0  \n",
       "...                                                 ... ..  \n",
       "971   /home/mlvm2/ce888labs/ce888_ass/Japanese_(hira...  1  \n",
       "972   /home/mlvm2/ce888labs/ce888_ass/Japanese_(hira...  1  \n",
       "973   /home/mlvm2/ce888labs/ce888_ass/Japanese_(hira...  0  \n",
       "974   /home/mlvm2/ce888labs/ce888_ass/Japanese_(hira...  0  \n",
       "975   /home/mlvm2/ce888labs/ce888_ass/Japanese_(hira...  1  \n",
       "976   /home/mlvm2/ce888labs/ce888_ass/Japanese_(hira...  0  \n",
       "977   /home/mlvm2/ce888labs/ce888_ass/Japanese_(hira...  0  \n",
       "978   /home/mlvm2/ce888labs/ce888_ass/Japanese_(hira...  0  \n",
       "979   /home/mlvm2/ce888labs/ce888_ass/Japanese_(hira...  0  \n",
       "980   /home/mlvm2/ce888labs/ce888_ass/Japanese_(hira...  1  \n",
       "981   /home/mlvm2/ce888labs/ce888_ass/Japanese_(hira...  0  \n",
       "982   /home/mlvm2/ce888labs/ce888_ass/Japanese_(hira...  0  \n",
       "983   /home/mlvm2/ce888labs/ce888_ass/Japanese_(hira...  1  \n",
       "984   /home/mlvm2/ce888labs/ce888_ass/Japanese_(hira...  1  \n",
       "985   /home/mlvm2/ce888labs/ce888_ass/Japanese_(hira...  1  \n",
       "986   /home/mlvm2/ce888labs/ce888_ass/Japanese_(hira...  0  \n",
       "987   /home/mlvm2/ce888labs/ce888_ass/Japanese_(hira...  1  \n",
       "988   /home/mlvm2/ce888labs/ce888_ass/Japanese_(hira...  1  \n",
       "989   /home/mlvm2/ce888labs/ce888_ass/Japanese_(hira...  0  \n",
       "990   /home/mlvm2/ce888labs/ce888_ass/Japanese_(hira...  1  \n",
       "991   /home/mlvm2/ce888labs/ce888_ass/Japanese_(hira...  1  \n",
       "992   /home/mlvm2/ce888labs/ce888_ass/Japanese_(hira...  1  \n",
       "993   /home/mlvm2/ce888labs/ce888_ass/Japanese_(hira...  1  \n",
       "994   /home/mlvm2/ce888labs/ce888_ass/Japanese_(hira...  1  \n",
       "995   /home/mlvm2/ce888labs/ce888_ass/Japanese_(hira...  1  \n",
       "996   /home/mlvm2/ce888labs/ce888_ass/Japanese_(hira...  1  \n",
       "997   /home/mlvm2/ce888labs/ce888_ass/Japanese_(hira...  0  \n",
       "998   /home/mlvm2/ce888labs/ce888_ass/Japanese_(hira...  1  \n",
       "999   /home/mlvm2/ce888labs/ce888_ass/Japanese_(hira...  1  \n",
       "1000  /home/mlvm2/ce888labs/ce888_ass/Japanese_(hira...  1  \n",
       "\n",
       "[1000 rows x 3 columns]"
      ]
     },
     "execution_count": 109,
     "metadata": {},
     "output_type": "execute_result"
    }
   ],
   "source": [
    "# ------------------------------------------------------------\n",
    "# Data read and pre-processing.\n",
    "# ------------------------------------------------------------\n",
    "df_train = pd.read_csv(\"Train_data\")\n",
    "df_train.drop(df_train.index[0], inplace = True)\n",
    "del df_train[\"Unnamed: 0\"]\n",
    "df_train\n",
    "df_test = pd.read_csv(\"Test_data\")\n",
    "df_test.drop(df_test.index[0], inplace = True)\n",
    "del df_test[\"Unnamed: 0\"]\n",
    "df_test"
   ]
  },
  {
   "cell_type": "code",
   "execution_count": 110,
   "metadata": {},
   "outputs": [
    {
     "data": {
      "text/plain": [
       "'/home/mlvm2/ce888labs/ce888_ass/Japanese_(hiragana)/character01/0488_20.png'"
      ]
     },
     "execution_count": 110,
     "metadata": {},
     "output_type": "execute_result"
    }
   ],
   "source": [
    "df_test.iloc[0,1]"
   ]
  },
  {
   "cell_type": "code",
   "execution_count": 111,
   "metadata": {},
   "outputs": [
    {
     "data": {
      "text/plain": [
       "array([255, 255, 255, ..., 255, 255, 255], dtype=uint8)"
      ]
     },
     "execution_count": 111,
     "metadata": {},
     "output_type": "execute_result"
    }
   ],
   "source": [
    "X_train_1 = cv2.imread(df_train.iloc[0,0], cv2.IMREAD_GRAYSCALE)\n",
    "X_train_1 = X_train_1.reshape(11025)\n",
    "X_train_1"
   ]
  },
  {
   "cell_type": "code",
   "execution_count": 112,
   "metadata": {},
   "outputs": [
    {
     "name": "stdout",
     "output_type": "stream",
     "text": [
      "(10, 22050)\n",
      "(1000, 22050)\n",
      "(10,)\n",
      "(1000,)\n"
     ]
    }
   ],
   "source": [
    "# ----------------------------------------------------------------------\n",
    "# A final confirmed data processing method.\n",
    "# ----------------------------------------------------------------------\n",
    "X_train_1 = cv2.imread(df_train.iloc[0,0], cv2.IMREAD_GRAYSCALE)\n",
    "X_train_2 = cv2.imread(df_train.iloc[0,1], cv2.IMREAD_GRAYSCALE)\n",
    "X_train_wfp = X_train_1,X_train_2\n",
    "X_train_wfp = np.array(X_train_wfp)\n",
    "X_train = X_train_wfp.reshape(1, 22050)\n",
    "\n",
    "for i in range(1, 10):\n",
    "    X_train_1 = cv2.imread(df_train.iloc[i,0], cv2.IMREAD_GRAYSCALE)\n",
    "    X_train_2 = cv2.imread(df_train.iloc[i,1], cv2.IMREAD_GRAYSCALE)\n",
    "    X_train_wfp = X_train_1,X_train_2\n",
    "    X_train_wfp = np.array(X_train_wfp)\n",
    "    X_train_wfp = X_train_wfp.reshape(1, 22050)\n",
    "    X_train = np.r_[X_train, X_train_wfp]\n",
    "\n",
    "y_train = df_train.iloc[0:10, 2]\n",
    "y_train = np.array(y_train)\n",
    "\n",
    "X_test_1 = cv2.imread(df_test.iloc[0,0], cv2.IMREAD_GRAYSCALE)\n",
    "X_test_2 = cv2.imread(df_test.iloc[0,1], cv2.IMREAD_GRAYSCALE)\n",
    "X_test_wfp = X_test_1,X_test_2\n",
    "X_test_wfp = np.array(X_test_wfp)\n",
    "X_test = X_test_wfp.reshape(1, 22050)\n",
    "\n",
    "for i in range(1, 1000):\n",
    "    X_test_1 = cv2.imread(df_test.iloc[i,0], cv2.IMREAD_GRAYSCALE)\n",
    "    X_test_2 = cv2.imread(df_test.iloc[i,1], cv2.IMREAD_GRAYSCALE)\n",
    "    X_test_wfp = X_test_1,X_test_2\n",
    "    X_test_wfp = np.array(X_test_wfp)\n",
    "    X_test_wfp = X_test_wfp.reshape(1, 22050)\n",
    "    X_test = np.r_[X_test, X_test_wfp]\n",
    "\n",
    "y_test = df_test.iloc[0:1000, 2]\n",
    "y_test = np.array(y_test)\n",
    "\n",
    "    \n",
    "print(X_train.shape)\n",
    "print(X_test.shape)\n",
    "print(y_train.shape)\n",
    "print(y_test.shape)"
   ]
  },
  {
   "cell_type": "code",
   "execution_count": 104,
   "metadata": {},
   "outputs": [
    {
     "data": {
      "text/plain": [
       "array(['0', '0', '0', '0', '0', '0', '0', '0', '0', '0'], dtype=object)"
      ]
     },
     "execution_count": 104,
     "metadata": {},
     "output_type": "execute_result"
    }
   ],
   "source": [
    "y_train"
   ]
  },
  {
   "cell_type": "code",
   "execution_count": 121,
   "metadata": {},
   "outputs": [
    {
     "name": "stdout",
     "output_type": "stream",
     "text": [
      "Version 0.9.2 of tpot is outdated. Version 0.9.3 was released 3 days ago.\n"
     ]
    },
    {
     "name": "stderr",
     "output_type": "stream",
     "text": [
      "Optimization Progress:  33%|███▎      | 20/60 [00:05<00:20,  1.95pipeline/s]"
     ]
    },
    {
     "name": "stdout",
     "output_type": "stream",
     "text": [
      "Generation 1 - Current best internal CV score: 0.766666666667\n"
     ]
    },
    {
     "name": "stderr",
     "output_type": "stream",
     "text": [
      "Optimization Progress:  52%|█████▏    | 31/60 [00:36<02:20,  4.85s/pipeline]"
     ]
    },
    {
     "name": "stdout",
     "output_type": "stream",
     "text": [
      "Generation 2 - Current best internal CV score: 1.0\n"
     ]
    },
    {
     "name": "stderr",
     "output_type": "stream",
     "text": [
      "Optimization Progress:  67%|██████▋   | 40/60 [00:38<00:22,  1.11s/pipeline]"
     ]
    },
    {
     "name": "stdout",
     "output_type": "stream",
     "text": [
      "Generation 3 - Current best internal CV score: 1.0\n"
     ]
    },
    {
     "name": "stderr",
     "output_type": "stream",
     "text": [
      "Optimization Progress:  83%|████████▎ | 50/60 [00:41<00:05,  1.84pipeline/s]"
     ]
    },
    {
     "name": "stdout",
     "output_type": "stream",
     "text": [
      "Generation 4 - Current best internal CV score: 1.0\n"
     ]
    },
    {
     "name": "stderr",
     "output_type": "stream",
     "text": [
      "                                                                            "
     ]
    },
    {
     "name": "stdout",
     "output_type": "stream",
     "text": [
      "Generation 5 - Current best internal CV score: 1.0\n",
      "\n",
      "Best pipeline: GaussianNB(Nystroem(input_matrix, gamma=0.45, kernel=cosine, n_components=1))\n"
     ]
    },
    {
     "name": "stderr",
     "output_type": "stream",
     "text": [
      "\r"
     ]
    },
    {
     "data": {
      "text/plain": [
       "TPOTClassifier(config_dict={'sklearn.ensemble.GradientBoostingClassifier': {'max_features': array([0.05, 0.1 , 0.15, 0.2 , 0.25, 0.3 , 0.35, 0.4 , 0.45, 0.5 , 0.55,\n",
       "       0.6 , 0.65, 0.7 , 0.75, 0.8 , 0.85, 0.9 , 0.95, 1.  ]), 'learning_rate': [0.001, 0.01, 0.1, 0.5, 1.0], 'min_samples_leaf': [1, 2, 3, 4, 5, 6, 7...  0.6 , 0.65, 0.7 , 0.75, 0.8 , 0.85, 0.9 , 0.95, 1.  ])}, 'sklearn.preprocessing.RobustScaler': {}},\n",
       "        crossover_rate=0.1, cv=5, disable_update_check=False,\n",
       "        early_stop=None, generations=5, max_eval_time_mins=5,\n",
       "        max_time_mins=None, memory=None, mutation_rate=0.9, n_jobs=1,\n",
       "        offspring_size=10, periodic_checkpoint_folder=None,\n",
       "        population_size=10, random_state=None, scoring=None, subsample=1.0,\n",
       "        verbosity=2, warm_start=False)"
      ]
     },
     "execution_count": 121,
     "metadata": {},
     "output_type": "execute_result"
    }
   ],
   "source": [
    "ipeline_optimizer = TPOTClassifier(generations=5, population_size=10, verbosity=2)\n",
    "ipeline_optimizer.fit(X_train, y_train)"
   ]
  },
  {
   "cell_type": "code",
   "execution_count": 122,
   "metadata": {},
   "outputs": [
    {
     "name": "stderr",
     "output_type": "stream",
     "text": [
      "/home/mlvm2/.local/lib/python2.7/site-packages/sklearn/metrics/classification.py:181: FutureWarning: elementwise comparison failed; returning scalar instead, but in the future will perform elementwise comparison\n",
      "  score = y_true == y_pred\n"
     ]
    },
    {
     "data": {
      "text/plain": [
       "0.0"
      ]
     },
     "execution_count": 122,
     "metadata": {},
     "output_type": "execute_result"
    }
   ],
   "source": [
    "ipeline_optimizer.score(X_test, y_test) #score should be high and the result shows it is totally a shit classifier."
   ]
  },
  {
   "cell_type": "code",
   "execution_count": 123,
   "metadata": {},
   "outputs": [
    {
     "data": {
      "text/plain": [
       "True"
      ]
     },
     "execution_count": 123,
     "metadata": {},
     "output_type": "execute_result"
    }
   ],
   "source": [
    "ipeline_optimizer.export('tpot_ogmnist_pipeline.py')"
   ]
  },
  {
   "cell_type": "code",
   "execution_count": 259,
   "metadata": {},
   "outputs": [],
   "source": [
    "Y_train = np_utils.to_categorical(y_train, 2)\n",
    "Y_test = np_utils.to_categorical(y_test, 2)"
   ]
  },
  {
   "cell_type": "code",
   "execution_count": 11,
   "metadata": {},
   "outputs": [
    {
     "ename": "NameError",
     "evalue": "name 'Y_train' is not defined",
     "output_type": "error",
     "traceback": [
      "\u001b[0;31m---------------------------------------------------------------------------\u001b[0m",
      "\u001b[0;31mNameError\u001b[0m                                 Traceback (most recent call last)",
      "\u001b[0;32m<ipython-input-11-fdfe995dd9c2>\u001b[0m in \u001b[0;36m<module>\u001b[0;34m()\u001b[0m\n\u001b[0;32m----> 1\u001b[0;31m \u001b[0mY_train\u001b[0m\u001b[0;34m\u001b[0m\u001b[0m\n\u001b[0m",
      "\u001b[0;31mNameError\u001b[0m: name 'Y_train' is not defined"
     ]
    }
   ],
   "source": [
    "Y_train"
   ]
  },
  {
   "cell_type": "code",
   "execution_count": 12,
   "metadata": {},
   "outputs": [
    {
     "name": "stderr",
     "output_type": "stream",
     "text": [
      "/home/mlvm2/anaconda2/lib/python2.7/site-packages/h5py/__init__.py:36: FutureWarning: Conversion of the second argument of issubdtype from `float` to `np.floating` is deprecated. In future, it will be treated as `np.float64 == np.dtype(float).type`.\n",
      "  from ._conv import register_converters as _register_converters\n",
      "Using TensorFlow backend.\n"
     ]
    }
   ],
   "source": [
    "from __future__ import print_function\n",
    "import numpy as np\n",
    "np.random.seed(1337)  # for reproducibility\n",
    "\n",
    "from keras.preprocessing import sequence\n",
    "from keras.models import Model\n",
    "from keras.layers import Dense, Activation, Embedding, Flatten, Input, Dropout, Conv1D, GlobalMaxPooling1D, recurrent\n",
    "from keras.datasets import imdb\n",
    "from keras.utils import np_utils"
   ]
  },
  {
   "cell_type": "code",
   "execution_count": 77,
   "metadata": {},
   "outputs": [
    {
     "name": "stdout",
     "output_type": "stream",
     "text": [
      "Build model...\n"
     ]
    },
    {
     "name": "stderr",
     "output_type": "stream",
     "text": [
      "/home/mlvm2/anaconda2/lib/python2.7/site-packages/ipykernel_launcher.py:14: UserWarning: Update your `Model` call to the Keras 2 API: `Model(outputs=Tensor(\"de..., inputs=Tensor(\"in...)`\n",
      "  \n"
     ]
    }
   ],
   "source": [
    "print('Build model...')\n",
    "\n",
    "\n",
    "inputs = Input(shape=(22050,))\n",
    "x = inputs\n",
    "\n",
    "for i in range(0, 3):\n",
    "    x = Dense(units=64, activation='relu')(x)\n",
    "\n",
    "x = Dropout(0.5, noise_shape=None, seed=None)(x)\n",
    "predictions = Dense(1, activation='softmax')(x)\n",
    "\n",
    "\n",
    "model = Model(input=inputs, output=predictions)\n",
    "model.compile(loss='binary_crossentropy',\n",
    "              optimizer='adam',\n",
    "              metrics=['accuracy'])"
   ]
  },
  {
   "cell_type": "code",
   "execution_count": 78,
   "metadata": {},
   "outputs": [
    {
     "name": "stdout",
     "output_type": "stream",
     "text": [
      "_________________________________________________________________\n",
      "Layer (type)                 Output Shape              Param #   \n",
      "=================================================================\n",
      "input_5 (InputLayer)         (None, 22050)             0         \n",
      "_________________________________________________________________\n",
      "dense_17 (Dense)             (None, 64)                1411264   \n",
      "_________________________________________________________________\n",
      "dense_18 (Dense)             (None, 64)                4160      \n",
      "_________________________________________________________________\n",
      "dense_19 (Dense)             (None, 64)                4160      \n",
      "_________________________________________________________________\n",
      "dropout_5 (Dropout)          (None, 64)                0         \n",
      "_________________________________________________________________\n",
      "dense_20 (Dense)             (None, 1)                 65        \n",
      "=================================================================\n",
      "Total params: 1,419,649\n",
      "Trainable params: 1,419,649\n",
      "Non-trainable params: 0\n",
      "_________________________________________________________________\n"
     ]
    }
   ],
   "source": [
    "model.summary()"
   ]
  },
  {
   "cell_type": "code",
   "execution_count": 116,
   "metadata": {},
   "outputs": [
    {
     "name": "stdout",
     "output_type": "stream",
     "text": [
      "Train...\n",
      "Train on 10 samples, validate on 1000 samples\n",
      "Epoch 1/10\n"
     ]
    },
    {
     "name": "stderr",
     "output_type": "stream",
     "text": [
      "/home/mlvm2/anaconda2/lib/python2.7/site-packages/ipykernel_launcher.py:3: UserWarning: The `nb_epoch` argument in `fit` has been renamed `epochs`.\n",
      "  This is separate from the ipykernel package so we can avoid doing imports until\n"
     ]
    },
    {
     "name": "stdout",
     "output_type": "stream",
     "text": [
      "10/10 [==============================] - 0s 33ms/step - loss: 11.1597 - acc: 0.3000 - val_loss: 8.1147 - val_acc: 0.4910\n",
      "Epoch 2/10\n",
      "10/10 [==============================] - 0s 24ms/step - loss: 11.1597 - acc: 0.3000 - val_loss: 8.1147 - val_acc: 0.4910\n",
      "Epoch 3/10\n",
      "10/10 [==============================] - 0s 33ms/step - loss: 11.1597 - acc: 0.3000 - val_loss: 8.1147 - val_acc: 0.4910\n",
      "Epoch 4/10\n",
      "10/10 [==============================] - 0s 32ms/step - loss: 11.1597 - acc: 0.3000 - val_loss: 8.1147 - val_acc: 0.4910\n",
      "Epoch 5/10\n",
      "10/10 [==============================] - 0s 30ms/step - loss: 11.1597 - acc: 0.3000 - val_loss: 8.1147 - val_acc: 0.4910\n",
      "Epoch 6/10\n",
      "10/10 [==============================] - 0s 24ms/step - loss: 11.1597 - acc: 0.3000 - val_loss: 8.1147 - val_acc: 0.4910\n",
      "Epoch 7/10\n",
      "10/10 [==============================] - 0s 33ms/step - loss: 11.1597 - acc: 0.3000 - val_loss: 8.1147 - val_acc: 0.4910\n",
      "Epoch 8/10\n",
      "10/10 [==============================] - 0s 30ms/step - loss: 11.1597 - acc: 0.3000 - val_loss: 8.1147 - val_acc: 0.4910\n",
      "Epoch 9/10\n",
      "10/10 [==============================] - 0s 30ms/step - loss: 11.1597 - acc: 0.3000 - val_loss: 8.1147 - val_acc: 0.4910\n",
      "Epoch 10/10\n",
      "10/10 [==============================] - 0s 23ms/step - loss: 11.1597 - acc: 0.3000 - val_loss: 8.1147 - val_acc: 0.4910\n",
      "1000/1000 [==============================] - 0s 349us/step\n",
      "Test score: 8.114674304008483\n",
      "Test accuracy: 0.491\n"
     ]
    }
   ],
   "source": [
    "print('Train...')\n",
    "model.fit(X_train, y_train, batch_size=32, nb_epoch=10,\n",
    "          validation_data=(X_test, y_test))\n",
    "score, acc = model.evaluate(X_test, y_test,\n",
    "                            batch_size=32)\n",
    "print('Test score:', score)\n",
    "print('Test accuracy:', acc)"
   ]
  },
  {
   "cell_type": "code",
   "execution_count": 113,
   "metadata": {},
   "outputs": [
    {
     "name": "stdout",
     "output_type": "stream",
     "text": [
      "509\n"
     ]
    }
   ],
   "source": [
    "count=0\n",
    "for i in range(0, 1000):\n",
    "    j = y_test[i]\n",
    "    if j == '0':\n",
    "        count = count+1\n",
    "print(count)"
   ]
  },
  {
   "cell_type": "code",
   "execution_count": 114,
   "metadata": {},
   "outputs": [
    {
     "data": {
      "text/plain": [
       "KNeighborsClassifier(algorithm='auto', leaf_size=30, metric='minkowski',\n",
       "           metric_params=None, n_jobs=1, n_neighbors=1, p=2,\n",
       "           weights='uniform')"
      ]
     },
     "execution_count": 114,
     "metadata": {},
     "output_type": "execute_result"
    }
   ],
   "source": [
    "from sklearn.neighbors import KNeighborsClassifier\n",
    "neigh = KNeighborsClassifier(n_neighbors=1)\n",
    "neigh.fit(X_train, y_train) "
   ]
  },
  {
   "cell_type": "code",
   "execution_count": 115,
   "metadata": {},
   "outputs": [
    {
     "data": {
      "text/plain": [
       "0.505"
      ]
     },
     "execution_count": 115,
     "metadata": {},
     "output_type": "execute_result"
    }
   ],
   "source": [
    "neigh.score(X_test, y_test)"
   ]
  },
  {
   "cell_type": "code",
   "execution_count": 126,
   "metadata": {},
   "outputs": [
    {
     "data": {
      "text/plain": [
       "0.516"
      ]
     },
     "execution_count": 126,
     "metadata": {},
     "output_type": "execute_result"
    }
   ],
   "source": [
    "import numpy as np\n",
    "import pandas as pd\n",
    "from sklearn.kernel_approximation import Nystroem\n",
    "from sklearn.model_selection import train_test_split\n",
    "from sklearn.naive_bayes import GaussianNB\n",
    "from sklearn.pipeline import make_pipeline\n",
    "\n",
    "exported_pipeline = make_pipeline(\n",
    "    Nystroem(gamma=0.45, kernel=\"cosine\", n_components=1),\n",
    "    GaussianNB()\n",
    ")\n",
    "\n",
    "exported_pipeline.fit(X_train, y_train)\n",
    "exported_pipeline.score(X_test, y_test)"
   ]
  }
 ],
 "metadata": {
  "kernelspec": {
   "display_name": "Python 3",
   "language": "python",
   "name": "python3"
  },
  "language_info": {
   "codemirror_mode": {
    "name": "ipython",
    "version": 2
   },
   "file_extension": ".py",
   "mimetype": "text/x-python",
   "name": "python",
   "nbconvert_exporter": "python",
   "pygments_lexer": "ipython2",
   "version": "2.7.14"
  }
 },
 "nbformat": 4,
 "nbformat_minor": 2
}
